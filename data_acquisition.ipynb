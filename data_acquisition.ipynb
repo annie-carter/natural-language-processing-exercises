{
 "cells": [
  {
   "cell_type": "markdown",
   "id": "ba20cb07",
   "metadata": {},
   "source": [
    "# DATA ACQUISITION EXERCISE"
   ]
  },
  {
   "cell_type": "markdown",
   "id": "29e09599",
   "metadata": {},
   "source": [
    "### Codeup Blog Articles\n",
    "\n",
    "Visit Codeup's Blog and record the urls for at least 5 distinct blog posts. For each post, you should scrape at least the post's title and content.\n",
    "\n",
    "Encapsulate your work in a function named get_blog_articles that will return a list of dictionaries, with each dictionary representing one article. The shape of each dictionary should look like this:\n",
    "\n",
    "\n",
    "{\n",
    "    'title': 'the title of the article',\n",
    "    'content': 'the full text content of the article'\n",
    "}\n",
    "Plus any additional properties you think might be helpful."
   ]
  },
  {
   "cell_type": "code",
   "execution_count": 19,
   "id": "a98abeea",
   "metadata": {},
   "outputs": [],
   "source": [
    "from requests import get\n",
    "from bs4 import BeautifulSoup\n",
    "import pandas as pd\n",
    "import os"
   ]
  },
  {
   "cell_type": "code",
   "execution_count": 2,
   "id": "0e12d6d0",
   "metadata": {},
   "outputs": [],
   "source": [
    "url = 'https://codeup.edu/blog/' \n",
    "headers = {'User-Agent': 'Codeup Data Science'} # Some websites don't accept the pyhon-requests default user-agent\n",
    "response = get(url, headers=headers)\n"
   ]
  },
  {
   "cell_type": "code",
   "execution_count": null,
   "id": "b57817b8",
   "metadata": {},
   "outputs": [],
   "source": [
    "def get_blog_articles():\n",
    "    # if we already have the data, read it locally\n",
    "    if path.exists('article.txt'):\n",
    "        with open('article.txt') as f:\n",
    "            return f.read()\n",
    "\n",
    "    # otherwise go fetch the data\n",
    "    url = 'https://codeup.com'\n",
    "    headers = {\n",
    "    'title': 'the title of the article',\n",
    "    'content': 'the full text content of the article'\n",
    "}\n",
    "    response = get(url, headers=headers)\n",
    "    soup = BeautifulSoup(response.text)\n",
    "    article = soup.find('div', id='main-content')\n",
    "\n",
    "    # save it for next time\n",
    "    with open('article.txt', 'w') as f:\n",
    "        f.write(article.text)\n",
    "\n",
    "    return article.text"
   ]
  },
  {
   "cell_type": "code",
   "execution_count": null,
   "id": "ceb39b7e",
   "metadata": {},
   "outputs": [],
   "source": [
    "print(response.text[:400])"
   ]
  },
  {
   "cell_type": "code",
   "execution_count": 2,
   "id": "f30d9692",
   "metadata": {},
   "outputs": [
    {
     "ename": "NameError",
     "evalue": "name 'BeautifulSoup' is not defined",
     "output_type": "error",
     "traceback": [
      "\u001b[0;31m---------------------------------------------------------------------------\u001b[0m",
      "\u001b[0;31mNameError\u001b[0m                                 Traceback (most recent call last)",
      "Cell \u001b[0;32mIn[2], line 2\u001b[0m\n\u001b[1;32m      1\u001b[0m \u001b[38;5;66;03m# Make a soup variable holding the response content\u001b[39;00m\n\u001b[0;32m----> 2\u001b[0m blog_soup \u001b[38;5;241m=\u001b[39m \u001b[43mBeautifulSoup\u001b[49m(response\u001b[38;5;241m.\u001b[39mcontent, \u001b[38;5;124m'\u001b[39m\u001b[38;5;124mhtml.parser\u001b[39m\u001b[38;5;124m'\u001b[39m)\n",
      "\u001b[0;31mNameError\u001b[0m: name 'BeautifulSoup' is not defined"
     ]
    }
   ],
   "source": [
    "# Make a soup variable holding the response content\n",
    "blog_soup = BeautifulSoup(response.content, 'html.parser')\n"
   ]
  },
  {
   "cell_type": "code",
   "execution_count": 5,
   "id": "ee414063",
   "metadata": {},
   "outputs": [
    {
     "data": {
      "text/plain": [
       "[<a class=\"more-link\" href=\"https://codeup.edu/featured/apida-heritage-month/\">read more</a>,\n",
       " <a class=\"more-link\" href=\"https://codeup.edu/featured/women-in-tech-panelist-spotlight/\">read more</a>,\n",
       " <a class=\"more-link\" href=\"https://codeup.edu/featured/women-in-tech-rachel-robbins-mayhill/\">read more</a>,\n",
       " <a class=\"more-link\" href=\"https://codeup.edu/codeup-news/women-in-tech-panelist-spotlight-sarah-mellor/\">read more</a>,\n",
       " <a class=\"more-link\" href=\"https://codeup.edu/events/women-in-tech-madeleine/\">read more</a>,\n",
       " <a class=\"more-link\" href=\"https://codeup.edu/codeup-news/panelist-spotlight-4/\">read more</a>]"
      ]
     },
     "execution_count": 5,
     "metadata": {},
     "output_type": "execute_result"
    }
   ],
   "source": [
    "blog_soup.select('.more-link') #soup.find_all('a', class_='more-link')"
   ]
  },
  {
   "cell_type": "code",
   "execution_count": 7,
   "id": "86ea1777",
   "metadata": {},
   "outputs": [
    {
     "data": {
      "text/plain": [
       "<a class=\"more-link\" href=\"https://codeup.edu/featured/apida-heritage-month/\">read more</a>"
      ]
     },
     "execution_count": 7,
     "metadata": {},
     "output_type": "execute_result"
    }
   ],
   "source": [
    "blog_soup.select('.more-link')[0]"
   ]
  },
  {
   "cell_type": "code",
   "execution_count": 10,
   "id": "e46c3403",
   "metadata": {},
   "outputs": [
    {
     "data": {
      "text/plain": [
       "'https://codeup.edu/featured/apida-heritage-month/'"
      ]
     },
     "execution_count": 10,
     "metadata": {},
     "output_type": "execute_result"
    }
   ],
   "source": [
    "blog_soup.select('.more-link')[0]['href']"
   ]
  },
  {
   "cell_type": "code",
   "execution_count": 11,
   "id": "b4d76788",
   "metadata": {},
   "outputs": [
    {
     "data": {
      "text/plain": [
       "['https://codeup.edu/featured/apida-heritage-month/',\n",
       " 'https://codeup.edu/featured/women-in-tech-panelist-spotlight/',\n",
       " 'https://codeup.edu/featured/women-in-tech-rachel-robbins-mayhill/',\n",
       " 'https://codeup.edu/codeup-news/women-in-tech-panelist-spotlight-sarah-mellor/',\n",
       " 'https://codeup.edu/events/women-in-tech-madeleine/',\n",
       " 'https://codeup.edu/codeup-news/panelist-spotlight-4/']"
      ]
     },
     "execution_count": 11,
     "metadata": {},
     "output_type": "execute_result"
    }
   ],
   "source": [
    "links = [link['href'] for link in blog_soup.select('.more-link')]\n",
    "links"
   ]
  },
  {
   "cell_type": "markdown",
   "id": "398f2cb7",
   "metadata": {},
   "source": [
    "#### Get BLOG content"
   ]
  },
  {
   "cell_type": "code",
   "execution_count": 12,
   "id": "2a1cd862",
   "metadata": {},
   "outputs": [],
   "source": [
    "url = links[0]\n",
    "response = get(url, headers=headers)\n",
    "soup = BeautifulSoup(response.text)\n"
   ]
  },
  {
   "cell_type": "code",
   "execution_count": 13,
   "id": "f6f20a04",
   "metadata": {},
   "outputs": [
    {
     "data": {
      "text/plain": [
       "'Spotlight on APIDA Voices: Celebrating Heritage and Inspiring Change ft. Arbeena Thapa'"
      ]
     },
     "execution_count": 13,
     "metadata": {},
     "output_type": "execute_result"
    }
   ],
   "source": [
    "soup.find('h1', class_='entry-title').text"
   ]
  },
  {
   "cell_type": "code",
   "execution_count": 14,
   "id": "4fcca070",
   "metadata": {},
   "outputs": [
    {
     "data": {
      "text/plain": [
       "'May is traditionally known as Asian American and Pacific Islander (AAPI) Heritage Month. This month we celebrate the history and contributions made possible by our AAPI friends, family, and community. We also examine our level of support and seek opportunities to better understand the AAPI community.\\n\\nIn an effort to address real concerns and experiences, we sat down with Arbeena Thapa, one of Codeup’s Financial Aid and Enrollment Managers.\\nArbeena identifies as Nepali American and Desi. Arbeena’s parents immigrated to Texas in 1988 for better employment and educational opportunities. Arbeena’s older sister was five when they made the move to the US. Arbeena was born later, becoming the first in her family to be a US citizen.\\nAt Codeup we take our efforts at inclusivity very seriously. After speaking with Arbeena, we were taught that the term AAPI excludes Desi-American individuals. Hence, we will now use the term Asian Pacific Islander Desi American (APIDA).\\nHere is how the rest of our conversation with Arbeena went!\\nHow do you celebrate or connect with your heritage and cultural traditions?\\n“I celebrate Nepal’s version of Christmas or Dashain. This is a nine-day celebration also known as Dussehra. I grew up as Hindu and I identify as Hindu, this is a very large part of my heritage. “\\n“Other ways I connect with my culture include sharing food! Momos are South Asian Dumplings and they’re my favorite to make and share.”\\n“On my Asian American side, I am an advocate of immigrant justice and erasure within APIDA social or political movements. I participate in events to embrace my identity such as immigrant justice advocacy because I come from a mixed-status family. I’ve always been in a community with undocumented Asian immigrants. .”\\nWhat are some of the challenges you have faced as an APIDA individual, personally or professionally?\\n“I often struggle with being gendered as compliant or a pushover. Professionally, I am often stereotyped as meek, so I’ve been overlooked for leadership roles. We are seen as perpetually foreign; people tend to other us in that way, yet put us on a pedestal for what a model minority looks like. This has made me hesitant to share my heritage in the past because these assumptions get mapped onto me. ”\\nCan you describe some common barriers of entry that APIDA individuals, specifically women may face when trying to enter or advance in the workplace?\\n“Being overlooked for leadership. In the past, I have not been viewed as a leader. People sometimes have preconceived stereotypes of Asian women not being able to be bold, or being vocal can be mistaken for being too emotional. “\\nHow do you believe microaggressions impact APIDA individuals in the workplace? Can you provide examples of such microaggressions?\\n“Erasure is big. To me, only saying ‘Merry Christmas’ isn’t inclusive to other religions. People are often resistant to saying ‘Happy Holidays,’ but saying Merry Christmas excludes, and does not appreciate my heritage. “\\n“Often microaggressions are not micro at all. They typically are not aggressive racialized violence, but the term ‘micro’ minimizes impact.”\\n“Some that I’ve heard are ‘What kind of Asian are you?’ or ‘Where are you from?’ This automatically makes me the ‘other’ and not seen as American. Even within the APIDA community, South Asians are overlooked as “Asian”.”\\nHow important is representation, specifically APIDA representation, in organizational leadership positions?\\n“I want to say that it is important to have someone who looks like you in leadership roles, and it is, but those leaders may not share the same beliefs as you. Certain privileges such as wealth, resources, or lack of interaction with lower-socioeconomic-status Asian Americans may cause a difference in community politics. I do not think the bamboo ceiling is acceptable, but the company you work for plays a big part in your politics and belief alignment.”\\nHow do you feel about code-switching, and have you ever felt it necessary to code-switch?\\n“I like sharing South Asian terms or connecting with others that have similar heritage and culture. A workplace that is welcoming to going into this sort of breakout is refreshing and makes space for us. However, having to code-switch could also mean a workplace that is not conducive and welcoming of other cultures. “\\nFinally, in your opinion, what long-term strategies can create lasting change in the workplace and ensure support, equality, and inclusion for APIDA individuals?\\n“Prior to a career in financial aid, I did a lot of research related to the post-9/11 immigration of the South Asian diaspora. This background made me heavily rely on grassroots organizing. Hire the people that want to innovate, hire the changemakers, hire the button-pushers. Reduce reliance on whiteness as change. This will become natural for the organization and become organizational change. Change comes from us on the ground.”\\nA huge thank you to Arbeena Thapa for sharing her experiences, and being vulnerable with us. Your words were inspiring and the opportunity to understand your perspective more has been valuable. We hope we can become better support for the APIDA community as we learn and grow on our journey of cultivating inclusive growth.'"
      ]
     },
     "execution_count": 14,
     "metadata": {},
     "output_type": "execute_result"
    }
   ],
   "source": [
    "soup.find('div', class_='entry-content').text.strip()"
   ]
  },
  {
   "cell_type": "code",
   "execution_count": 17,
   "id": "46121515",
   "metadata": {},
   "outputs": [
    {
     "ename": "SyntaxError",
     "evalue": "':' expected after dictionary key (856559556.py, line 22)",
     "output_type": "error",
     "traceback": [
      "\u001b[0;36m  Cell \u001b[0;32mIn[17], line 22\u001b[0;36m\u001b[0m\n\u001b[0;31m    'title': title,b\u001b[0m\n\u001b[0m                   ^\u001b[0m\n\u001b[0;31mSyntaxError\u001b[0m\u001b[0;31m:\u001b[0m ':' expected after dictionary key\n"
     ]
    }
   ],
   "source": [
    "# R. McCall Instructor Code\n",
    "def blog_soup():\n",
    "    url = 'https://codeup.edu/blog/'\n",
    "    headers = {'User-Agent': 'Codeup Data Science'}\n",
    "    response = get(url, headers=headers)\n",
    "    \n",
    "    soup = BeautifulSoup(response.content, 'html.parser')\n",
    "    \n",
    "    links = [link['href'] for link in soup.select('.more-link')]\n",
    "    \n",
    "    articles = []\n",
    "    \n",
    "    for url in links:\n",
    "        \n",
    "        url_response = get(url, headers=headers)\n",
    "        soup = BeautifulSoup(url_response.text)\n",
    "        \n",
    "        title = soup.find('h1', class_='entry-title').text\n",
    "        content = soup.find('div', class_='entry-content').text.strip()\n",
    "        \n",
    "        article_dict = {\n",
    "            'title': title,b\n",
    "            'content': content\n",
    "        }\n",
    "        \n",
    "        articles.append(article_dict)"
   ]
  },
  {
   "cell_type": "code",
   "execution_count": 16,
   "id": "87140a6f",
   "metadata": {},
   "outputs": [
    {
     "data": {
      "text/plain": [
       "[{'title': 'Spotlight on APIDA Voices: Celebrating Heritage and Inspiring Change ft. Arbeena Thapa',\n",
       "  'content': 'May is traditionally known as Asian American and Pacific Islander (AAPI) Heritage Month. This month we celebrate the history and contributions made possible by our AAPI friends, family, and community. We also examine our level of support and seek opportunities to better understand the AAPI community.\\n\\nIn an effort to address real concerns and experiences, we sat down with Arbeena Thapa, one of Codeup’s Financial Aid and Enrollment Managers.\\nArbeena identifies as Nepali American and Desi. Arbeena’s parents immigrated to Texas in 1988 for better employment and educational opportunities. Arbeena’s older sister was five when they made the move to the US. Arbeena was born later, becoming the first in her family to be a US citizen.\\nAt Codeup we take our efforts at inclusivity very seriously. After speaking with Arbeena, we were taught that the term AAPI excludes Desi-American individuals. Hence, we will now use the term Asian Pacific Islander Desi American (APIDA).\\nHere is how the rest of our conversation with Arbeena went!\\nHow do you celebrate or connect with your heritage and cultural traditions?\\n“I celebrate Nepal’s version of Christmas or Dashain. This is a nine-day celebration also known as Dussehra. I grew up as Hindu and I identify as Hindu, this is a very large part of my heritage. “\\n“Other ways I connect with my culture include sharing food! Momos are South Asian Dumplings and they’re my favorite to make and share.”\\n“On my Asian American side, I am an advocate of immigrant justice and erasure within APIDA social or political movements. I participate in events to embrace my identity such as immigrant justice advocacy because I come from a mixed-status family. I’ve always been in a community with undocumented Asian immigrants. .”\\nWhat are some of the challenges you have faced as an APIDA individual, personally or professionally?\\n“I often struggle with being gendered as compliant or a pushover. Professionally, I am often stereotyped as meek, so I’ve been overlooked for leadership roles. We are seen as perpetually foreign; people tend to other us in that way, yet put us on a pedestal for what a model minority looks like. This has made me hesitant to share my heritage in the past because these assumptions get mapped onto me. ”\\nCan you describe some common barriers of entry that APIDA individuals, specifically women may face when trying to enter or advance in the workplace?\\n“Being overlooked for leadership. In the past, I have not been viewed as a leader. People sometimes have preconceived stereotypes of Asian women not being able to be bold, or being vocal can be mistaken for being too emotional. “\\nHow do you believe microaggressions impact APIDA individuals in the workplace? Can you provide examples of such microaggressions?\\n“Erasure is big. To me, only saying ‘Merry Christmas’ isn’t inclusive to other religions. People are often resistant to saying ‘Happy Holidays,’ but saying Merry Christmas excludes, and does not appreciate my heritage. “\\n“Often microaggressions are not micro at all. They typically are not aggressive racialized violence, but the term ‘micro’ minimizes impact.”\\n“Some that I’ve heard are ‘What kind of Asian are you?’ or ‘Where are you from?’ This automatically makes me the ‘other’ and not seen as American. Even within the APIDA community, South Asians are overlooked as “Asian”.”\\nHow important is representation, specifically APIDA representation, in organizational leadership positions?\\n“I want to say that it is important to have someone who looks like you in leadership roles, and it is, but those leaders may not share the same beliefs as you. Certain privileges such as wealth, resources, or lack of interaction with lower-socioeconomic-status Asian Americans may cause a difference in community politics. I do not think the bamboo ceiling is acceptable, but the company you work for plays a big part in your politics and belief alignment.”\\nHow do you feel about code-switching, and have you ever felt it necessary to code-switch?\\n“I like sharing South Asian terms or connecting with others that have similar heritage and culture. A workplace that is welcoming to going into this sort of breakout is refreshing and makes space for us. However, having to code-switch could also mean a workplace that is not conducive and welcoming of other cultures. “\\nFinally, in your opinion, what long-term strategies can create lasting change in the workplace and ensure support, equality, and inclusion for APIDA individuals?\\n“Prior to a career in financial aid, I did a lot of research related to the post-9/11 immigration of the South Asian diaspora. This background made me heavily rely on grassroots organizing. Hire the people that want to innovate, hire the changemakers, hire the button-pushers. Reduce reliance on whiteness as change. This will become natural for the organization and become organizational change. Change comes from us on the ground.”\\nA huge thank you to Arbeena Thapa for sharing her experiences, and being vulnerable with us. Your words were inspiring and the opportunity to understand your perspective more has been valuable. We hope we can become better support for the APIDA community as we learn and grow on our journey of cultivating inclusive growth.'},\n",
       " {'title': 'Women in tech: Panelist Spotlight – Magdalena Rahn',\n",
       "  'content': 'Women in tech: Panelist Spotlight – Magdalena Rahn\\nCodeup is hosting a Women in Tech Panel in honor of Women’s History Month on March 29th, 2023! To further celebrate, we’d like to spotlight each of our panelists leading up to the discussion to learn a bit about their respective experiences as women in the tech industry!\\n\\nMeet Magdalena!\\nMagdalena Rahn is a current Codeup student in a Data Science cohort in San Antonio, Texas. She has a professional background in cross-cultural communications, international business development, the wine industry and journalism. After serving in the US Navy, she decided to complement her professional skill set by attending the Data Science program at Codeup; she is set to graduate in March 2023. Magdalena is fluent in French, Bulgarian, Chinese-Mandarin, Spanish and Italian.\\nWe asked Magdalena how Codeup impacted her career, and she replied “Codeup has provided a solid foundation in analytical processes, programming and data science methods, and it’s been an encouragement to have such supportive instructors and wonderful classmates.”\\nDon’t forget to tune in on March 29th to sit in on an insightful conversation with Magdalena.'},\n",
       " {'title': 'Women in tech: Panelist Spotlight – Rachel Robbins-Mayhill',\n",
       "  'content': 'Women in tech: Panelist Spotlight – Rachel Robbins-Mayhill\\nCodeup is hosting a Women in Tech Panel in honor of Women’s History Month on March 29th, 2023! To further celebrate, we’d like to spotlight each of our panelists leading up to the discussion to learn a bit about their respective experiences as women in the tech industry! Meet Rachel!\\n\\nRachel Robbins-Mayhill is a Decision Science Analyst I in San Antonio, Texas. Rachel has had a varied career that includes counseling, teaching, training, community development, and military operations. Her focus has always been on assessing needs, identifying solutions, and educating individuals and groups on aligning needs and solutions in different contexts. Rachel’s passion for data science stems from her belief that data is a powerful tool for communicating patterns that can lead to hope and growth in the future.\\nIn June 2022, Rachel graduated from Codeup’s Innis cohort, where she honed her skills in data science. Shortly after, she started working as a Data Science Technical Writer with Apex Systems as a Contractor for USAA in July 2022. Her unconventional role allowed her to understand where her skills could be best utilized to support USAA in a non-contract role.\\nRachel recently joined USAA’s Data Science Delivery team as a Decision Science Analyst I in February 2023. The team is focused on delivering machine learning models for fraud prevention, and Rachel’s particular role centers around providing strategic process solutions for the team in collaboration with Operational and Model Risk components.\\nIn addition to her career, Rachel is currently pursuing a master’s degree in Applied Data Science from Syracuse University, further expanding her knowledge and skills in the field. Rachel is passionate about collaborating with individuals who share her belief in the potential of others and strive to achieve growth through logical, informed action. She welcomes LinkedIn connections and is excited about supporting the network of CodeUp alumni!\\nWe asked Rachel how Codeup impacted her career, and she replied “Codeup delivered a comprehensive education in all facets of the data science pipeline, laying a strong foundation for me to build upon. Through repeated hands-on practice, I developed a reliable process that was immediately applicable in my job. Collaborative group projects were instrumental in helping me hone my skills in project management, allowing me to navigate complex data science projects with comfortability. Thanks to this invaluable experience, I was able to make significant strides in my career within just six months of graduating from Codeup.”\\nDon’t forget to tune in on March 29th to sit in on an insightful conversation.'},\n",
       " {'title': 'Women in Tech: Panelist Spotlight – Sarah Mellor',\n",
       "  'content': 'Women in tech: Panelist Spotlight – Sarah Mellor\\xa0\\nCodeup is hosting a Women in Tech Panel in honor of Women’s History Month on March 29th, 2023! To further celebrate, we’d like to spotlight each of our panelists leading up to the discussion to learn a bit about their respective experiences as women in the tech industry!\\nMeet Sarah!\\nSarah Mellor currently works as the Director of People Operations. She joined Codeup four and a half years ago as an Admissions Manager. She went on to build out and lead the Marketing and Admissions team, while picking up People Ops tasks and projects here and there until moving over to lead the People Ops team two years ago. Prior to Codeup, she worked at education-focused non-profits in Washington, DC and Boulder, Colorado. She graduated from Wake Forest University.\\nWe asked Sarah how Codeup has impacted her career, and her response was “I have absolutely loved having the privilege to grow alongside Codeup. In my time here across multiple different roles and departments, I’ve seen a lot of change. The consistent things have always been the high quality of passionate and hardworking people I get to work with; the impactful mission we get to work on; and the inspiring students who trust us with their career change.”\\nDon’t forget to tune in on March 29th to sit in on an insightful conversation.'},\n",
       " {'title': 'Women in Tech: Panelist Spotlight – Madeleine Capper',\n",
       "  'content': 'Women in tech: Panelist Spotlight – Madeleine Capper\\nCodeup is hosting a Women in Tech Panel in honor of Women’s History Month on March 29th, 2023! To further celebrate, we’d like to spotlight each of our panelists leading up to the discussion to learn a bit about their respective experiences as women in the tech industry!\\nMeet Madeleine!\\nMadeleine Capper is a Data Scientist in San Antonio, Texas. A long-standing San Antonio resident, she studied mathematics at the University of Texas San Antonio and has worked as a Data Scientist for Booz Allen Hamilton. Madeleine currently teaches Data Science at Codeup, where she works daily with burgeoning data professionals to help them actualize their career aspirations through technical education.\\nMadeleine attended Codeup as a student in early 2019 as a pupil in the very first Codeup Data Science cohort. The program proved immediately effective and she was the first student to obtain a data career out of the program. After working at Booz Allen Hamilton, Madeleine’s passion for education in conjunction with her appreciation for Codeup’s capacity for transformative life change brought her back to the institution in an instructional capacity, where she has been teaching for two years.\\nDon’t forget to tune in on March 29th to sit in on an insightful conversation.'}]"
      ]
     },
     "execution_count": 16,
     "metadata": {},
     "output_type": "execute_result"
    }
   ],
   "source": [
    "articles[0:5]"
   ]
  },
  {
   "cell_type": "code",
   "execution_count": 22,
   "id": "05cb06b1",
   "metadata": {},
   "outputs": [
    {
     "data": {
      "text/html": [
       "<div>\n",
       "<style scoped>\n",
       "    .dataframe tbody tr th:only-of-type {\n",
       "        vertical-align: middle;\n",
       "    }\n",
       "\n",
       "    .dataframe tbody tr th {\n",
       "        vertical-align: top;\n",
       "    }\n",
       "\n",
       "    .dataframe thead th {\n",
       "        text-align: right;\n",
       "    }\n",
       "</style>\n",
       "<table border=\"1\" class=\"dataframe\">\n",
       "  <thead>\n",
       "    <tr style=\"text-align: right;\">\n",
       "      <th></th>\n",
       "      <th>title</th>\n",
       "      <th>content</th>\n",
       "    </tr>\n",
       "  </thead>\n",
       "  <tbody>\n",
       "    <tr>\n",
       "      <th>0</th>\n",
       "      <td>Spotlight on APIDA Voices: Celebrating Heritag...</td>\n",
       "      <td>May is traditionally known as Asian American a...</td>\n",
       "    </tr>\n",
       "    <tr>\n",
       "      <th>1</th>\n",
       "      <td>Women in tech: Panelist Spotlight – Magdalena ...</td>\n",
       "      <td>Women in tech: Panelist Spotlight – Magdalena ...</td>\n",
       "    </tr>\n",
       "    <tr>\n",
       "      <th>2</th>\n",
       "      <td>Women in tech: Panelist Spotlight – Rachel Rob...</td>\n",
       "      <td>Women in tech: Panelist Spotlight – Rachel Rob...</td>\n",
       "    </tr>\n",
       "    <tr>\n",
       "      <th>3</th>\n",
       "      <td>Women in Tech: Panelist Spotlight – Sarah Mellor</td>\n",
       "      <td>Women in tech: Panelist Spotlight – Sarah Mell...</td>\n",
       "    </tr>\n",
       "    <tr>\n",
       "      <th>4</th>\n",
       "      <td>Women in Tech: Panelist Spotlight – Madeleine ...</td>\n",
       "      <td>Women in tech: Panelist Spotlight – Madeleine ...</td>\n",
       "    </tr>\n",
       "    <tr>\n",
       "      <th>5</th>\n",
       "      <td>Black Excellence in Tech: Panelist Spotlight –...</td>\n",
       "      <td>Black excellence in tech: Panelist Spotlight –...</td>\n",
       "    </tr>\n",
       "  </tbody>\n",
       "</table>\n",
       "</div>"
      ],
      "text/plain": [
       "                                               title  \\\n",
       "0  Spotlight on APIDA Voices: Celebrating Heritag...   \n",
       "1  Women in tech: Panelist Spotlight – Magdalena ...   \n",
       "2  Women in tech: Panelist Spotlight – Rachel Rob...   \n",
       "3   Women in Tech: Panelist Spotlight – Sarah Mellor   \n",
       "4  Women in Tech: Panelist Spotlight – Madeleine ...   \n",
       "5  Black Excellence in Tech: Panelist Spotlight –...   \n",
       "\n",
       "                                             content  \n",
       "0  May is traditionally known as Asian American a...  \n",
       "1  Women in tech: Panelist Spotlight – Magdalena ...  \n",
       "2  Women in tech: Panelist Spotlight – Rachel Rob...  \n",
       "3  Women in tech: Panelist Spotlight – Sarah Mell...  \n",
       "4  Women in tech: Panelist Spotlight – Madeleine ...  \n",
       "5  Black excellence in tech: Panelist Spotlight –...  "
      ]
     },
     "execution_count": 22,
     "metadata": {},
     "output_type": "execute_result"
    }
   ],
   "source": [
    "blog_soup_df = pd.DataFrame(articles)\n",
    "blog_soup_df"
   ]
  },
  {
   "cell_type": "code",
   "execution_count": 23,
   "id": "9a98d922",
   "metadata": {},
   "outputs": [],
   "source": [
    "blog_soup_df.to_csv('blog_articles.csv', index=False)"
   ]
  },
  {
   "cell_type": "markdown",
   "id": "00cbca64",
   "metadata": {},
   "source": [
    "## News Articles\n",
    "\n",
    "We will now be scraping text data from inshorts, a website that provides a brief overview of many different topics.\n",
    "\n",
    "Write a function that scrapes the news articles for the following topics:\n",
    "\n",
    "Business\n",
    "Sports\n",
    "Technology\n",
    "Entertainment\n",
    "The end product of this should be a function named get_news_articles that returns a list of dictionaries, where each dictionary has this shape:\n",
    "\n",
    "\n",
    "{\n",
    "    'title': 'The article title',\n",
    "    'content': 'The article content',\n",
    "    'category': 'business' # for example\n",
    "}\n"
   ]
  },
  {
   "cell_type": "code",
   "execution_count": null,
   "id": "391f1813",
   "metadata": {},
   "outputs": [],
   "source": [
    "#url = 'https://inshorts.com/'"
   ]
  },
  {
   "cell_type": "code",
   "execution_count": 26,
   "id": "f610d500",
   "metadata": {},
   "outputs": [],
   "source": [
    "#My article code\n",
    "def get_article_text():\n",
    "    \n",
    "    # Go fetch the data\n",
    "    url = 'https://inshorts.com/'\n",
    "    headers = {\n",
    "    'title': 'The article title',\n",
    "    'content': 'The article content',\n",
    "    'category': 'business'\n",
    "}\n",
    "\n",
    "    response = get(url, headers=headers)\n",
    "    soup = BeautifulSoup(response.text)\n",
    "    article = soup.find('div', id='main-content')\n",
    "\n",
    "    # save it for next time\n",
    "    with open('article.txt', 'w') as f:\n",
    "        f.write(article.text)\n",
    "    return article.text\n",
    "\n",
    "\n"
   ]
  },
  {
   "cell_type": "code",
   "execution_count": 33,
   "id": "24fc16e6",
   "metadata": {},
   "outputs": [],
   "source": [
    "#R. McCall Instructor code\n",
    "def inshort_soup():\n",
    "    categories = ['business', 'sports', 'technology', 'entertainment']\n",
    "    \n",
    "    inshorts = []\n",
    "    \n",
    "    for category in categories:\n",
    "        \n",
    "        url = 'https://inshorts.com/en/read' + '/' + category\n",
    "        response = get(url)\n",
    "        soup = BeautifulSoup(response.content, 'html.parser')\n",
    "        \n",
    "        titles = [span.text for span in soup.find_all('span', itemprop='headline')]\n",
    "        contents = [div.text for div in soup.find_all('div', itemprop='articleBody')]\n",
    "        \n",
    "        for i in range(len(titles)):\n",
    "            \n",
    "            article = {\n",
    "                'title': titles[i],\n",
    "                'content': contents[i],\n",
    "                'category': category,\n",
    "            }\n",
    "            \n",
    "            inshorts.append(article)\n"
   ]
  },
  {
   "cell_type": "code",
   "execution_count": 32,
   "id": "ff5d6bdb",
   "metadata": {},
   "outputs": [
    {
     "data": {
      "text/plain": [
       "[{'title': \"Nifty50 firms chiefs' average remuneration drops by 25% in FY23\",\n",
       "  'content': \"Combined remuneration for the heads of the Nifty50 companies fell about 25% to ₹1,066 crore in FY23 as technology and promoter-led companies cut down employee expenses, CNBC-TV18 reported. A ₹350 crore reduction in overall compensation of Nifty companies also brought down CEOs' average remuneration to ₹21.3 crore in FY23 against ₹28.3 crore in FY22, data compiled from annual reports showed.\",\n",
       "  'category': 'business'},\n",
       " {'title': 'H&M probes labour abuses at Myanmar garment factories: Report',\n",
       "  'content': 'H&M is investigating 20 alleged instances of labour abuse at Myanmar garment factories, Reuters reported. A British human rights advocacy group tracked 156 cases of alleged worker abuses in Myanmar garment factories from February 2022 to February 2023. Wage reduction and wage theft were the most frequently reported allegations, followed by unfair dismissal, inhumane work rates and forced overtime.',\n",
       "  'category': 'business'},\n",
       " {'title': 'Irish bank glitch lets people with no money withdraw up to ₹90,000',\n",
       "  'content': \"A glitch in Bank of Ireland's app allowed customers with low balances or no money in accounts to transfer up to €1,000 (around ₹90,000) into a linked account with a digital banking app, that could be withdrawn via ATMs. Several people rushed to the ATMs following the glitch. The bank warned the withdrawn money would be debited from their accounts.\",\n",
       "  'category': 'business'},\n",
       " {'title': 'Union Cabinet approves ₹32,500 crore for seven railway projects',\n",
       "  'content': 'Union Cabinet approved a ₹32,500-crore budget for seven railway projects, estimated to add 2,339 km to the existing network of Indian Railways, Union Minister Ashwini Vaishnaw said. The projects will help increase existing line capacity, smoothen train operations and reduce congestion, he added. Uttar Pradesh, Bihar, Telangana, Gujarat, Odisha and West Bengal are set to benefit from the projects.',\n",
       "  'category': 'business'},\n",
       " {'title': 'Netherlands slips into recession        ',\n",
       "  'content': \"The Dutch economy has entered a recession as it shrank 0.3% on a quarterly basis in the second quarter, a first estimate published by Statistics Netherlands showed on Wednesday. The euro zone's fifth-largest economy shrank for the second consecutive quarter, after a 0.4% contraction in the first three months of the year.\",\n",
       "  'category': 'business'}]"
      ]
     },
     "execution_count": 32,
     "metadata": {},
     "output_type": "execute_result"
    }
   ],
   "source": [
    "inshorts[0:5]"
   ]
  },
  {
   "cell_type": "code",
   "execution_count": null,
   "id": "d9ec7c65",
   "metadata": {},
   "outputs": [],
   "source": [
    "print(response.text[:400])"
   ]
  },
  {
   "cell_type": "code",
   "execution_count": 29,
   "id": "e531d5b6",
   "metadata": {},
   "outputs": [
    {
     "data": {
      "text/html": [
       "<div>\n",
       "<style scoped>\n",
       "    .dataframe tbody tr th:only-of-type {\n",
       "        vertical-align: middle;\n",
       "    }\n",
       "\n",
       "    .dataframe tbody tr th {\n",
       "        vertical-align: top;\n",
       "    }\n",
       "\n",
       "    .dataframe thead th {\n",
       "        text-align: right;\n",
       "    }\n",
       "</style>\n",
       "<table border=\"1\" class=\"dataframe\">\n",
       "  <thead>\n",
       "    <tr style=\"text-align: right;\">\n",
       "      <th></th>\n",
       "      <th>title</th>\n",
       "      <th>content</th>\n",
       "      <th>category</th>\n",
       "    </tr>\n",
       "  </thead>\n",
       "  <tbody>\n",
       "    <tr>\n",
       "      <th>0</th>\n",
       "      <td>Nifty50 firms chiefs' average remuneration dro...</td>\n",
       "      <td>Combined remuneration for the heads of the Nif...</td>\n",
       "      <td>business</td>\n",
       "    </tr>\n",
       "    <tr>\n",
       "      <th>1</th>\n",
       "      <td>H&amp;M probes labour abuses at Myanmar garment fa...</td>\n",
       "      <td>H&amp;M is investigating 20 alleged instances of l...</td>\n",
       "      <td>business</td>\n",
       "    </tr>\n",
       "    <tr>\n",
       "      <th>2</th>\n",
       "      <td>Irish bank glitch lets people with no money wi...</td>\n",
       "      <td>A glitch in Bank of Ireland's app allowed cust...</td>\n",
       "      <td>business</td>\n",
       "    </tr>\n",
       "    <tr>\n",
       "      <th>3</th>\n",
       "      <td>Union Cabinet approves ₹32,500 crore for seven...</td>\n",
       "      <td>Union Cabinet approved a ₹32,500-crore budget ...</td>\n",
       "      <td>business</td>\n",
       "    </tr>\n",
       "    <tr>\n",
       "      <th>4</th>\n",
       "      <td>Netherlands slips into recession</td>\n",
       "      <td>The Dutch economy has entered a recession as i...</td>\n",
       "      <td>business</td>\n",
       "    </tr>\n",
       "    <tr>\n",
       "      <th>5</th>\n",
       "      <td>Cardamom prices nearly double over low rainfal...</td>\n",
       "      <td>Cardamom prices are rising rapidly due to 30-5...</td>\n",
       "      <td>business</td>\n",
       "    </tr>\n",
       "    <tr>\n",
       "      <th>6</th>\n",
       "      <td>Govt plans stake sale in Indian Railway Financ...</td>\n",
       "      <td>Government is considering selling some of its ...</td>\n",
       "      <td>business</td>\n",
       "    </tr>\n",
       "    <tr>\n",
       "      <th>7</th>\n",
       "      <td>Religare stock up 10% amid report of Dabur's B...</td>\n",
       "      <td>Religare Enterprises' shares surged nearly 10%...</td>\n",
       "      <td>business</td>\n",
       "    </tr>\n",
       "    <tr>\n",
       "      <th>8</th>\n",
       "      <td>Avatar 2 financier sues Disney for withholding...</td>\n",
       "      <td>TSG Entertainment, which co-financed movies in...</td>\n",
       "      <td>business</td>\n",
       "    </tr>\n",
       "    <tr>\n",
       "      <th>9</th>\n",
       "      <td>Tomatoes need vacation: Burger King India as i...</td>\n",
       "      <td>Burger King has stopped adding tomatoes to its...</td>\n",
       "      <td>business</td>\n",
       "    </tr>\n",
       "    <tr>\n",
       "      <th>10</th>\n",
       "      <td>Bumrah like we have always known him: BCCI on ...</td>\n",
       "      <td>The BCCI took to social media to share a video...</td>\n",
       "      <td>sports</td>\n",
       "    </tr>\n",
       "    <tr>\n",
       "      <th>11</th>\n",
       "      <td>British Olympic swimmer Helen Smart dies 'sudd...</td>\n",
       "      <td>British Olympic swimmer Helen Smart passed awa...</td>\n",
       "      <td>sports</td>\n",
       "    </tr>\n",
       "    <tr>\n",
       "      <th>12</th>\n",
       "      <td>You tried rushing Bumrah thrice, he sat out fo...</td>\n",
       "      <td>Talking about Team India pacer Jasprit Bumrah ...</td>\n",
       "      <td>sports</td>\n",
       "    </tr>\n",
       "    <tr>\n",
       "      <th>13</th>\n",
       "      <td>Laughable: Ex-KKR director on Imran Khan's abs...</td>\n",
       "      <td>Reacting to Pakistan's 1992 World Cup-winning ...</td>\n",
       "      <td>sports</td>\n",
       "    </tr>\n",
       "    <tr>\n",
       "      <th>14</th>\n",
       "      <td>Shock of my life: Wasim Akram on PCB not inclu...</td>\n",
       "      <td>Reacting to PCB not including Imran Khan in a ...</td>\n",
       "      <td>sports</td>\n",
       "    </tr>\n",
       "    <tr>\n",
       "      <th>15</th>\n",
       "      <td>LOL, posts Ben Stokes on X after reversing ODI...</td>\n",
       "      <td>England all-rounder Ben Stokes took to X (form...</td>\n",
       "      <td>sports</td>\n",
       "    </tr>\n",
       "    <tr>\n",
       "      <th>16</th>\n",
       "      <td>Stokes knows when to leave someone out, kick o...</td>\n",
       "      <td>England pacer James Anderson said England Test...</td>\n",
       "      <td>sports</td>\n",
       "    </tr>\n",
       "    <tr>\n",
       "      <th>17</th>\n",
       "      <td>Jadeja gets nod due to batting form: Ashwin on...</td>\n",
       "      <td>Speaking about being dropped and all-rounder R...</td>\n",
       "      <td>sports</td>\n",
       "    </tr>\n",
       "    <tr>\n",
       "      <th>18</th>\n",
       "      <td>Defending champions England announce interim s...</td>\n",
       "      <td>Defending champions England have announced the...</td>\n",
       "      <td>sports</td>\n",
       "    </tr>\n",
       "    <tr>\n",
       "      <th>19</th>\n",
       "      <td>Rohit must be aggressive, India should conside...</td>\n",
       "      <td>India's 1983 World Cup-winning captain Kapil D...</td>\n",
       "      <td>sports</td>\n",
       "    </tr>\n",
       "    <tr>\n",
       "      <th>20</th>\n",
       "      <td>Aditya-L1 to study the Sun's atmosphere, space...</td>\n",
       "      <td>The Indian Space Research Organisation (ISRO) ...</td>\n",
       "      <td>technology</td>\n",
       "    </tr>\n",
       "    <tr>\n",
       "      <th>21</th>\n",
       "      <td>Cabinet extends Digital India program with ₹14...</td>\n",
       "      <td>The Cabinet has extended Digital India program...</td>\n",
       "      <td>technology</td>\n",
       "    </tr>\n",
       "    <tr>\n",
       "      <th>22</th>\n",
       "      <td>TweetDeck now called XPro, goes behind paywall...</td>\n",
       "      <td>XPro, earlier called TweetDeck, has been put b...</td>\n",
       "      <td>technology</td>\n",
       "    </tr>\n",
       "    <tr>\n",
       "      <th>23</th>\n",
       "      <td>Heartening: MoS Science on Chandrayaan-3 finis...</td>\n",
       "      <td>After ISRO said it had successfully carried ou...</td>\n",
       "      <td>technology</td>\n",
       "    </tr>\n",
       "    <tr>\n",
       "      <th>24</th>\n",
       "      <td>Why is Apple paying $500 million to select iPh...</td>\n",
       "      <td>Apple will start paying $500 million ($65 each...</td>\n",
       "      <td>technology</td>\n",
       "    </tr>\n",
       "    <tr>\n",
       "      <th>25</th>\n",
       "      <td>Tech has progressed faster in India compared t...</td>\n",
       "      <td>Intel's Executive Vice President and General M...</td>\n",
       "      <td>technology</td>\n",
       "    </tr>\n",
       "    <tr>\n",
       "      <th>26</th>\n",
       "      <td>17 &amp; 18-year-olds accused of hacking Nvidia, b...</td>\n",
       "      <td>A 17 and an 18-year-old are accused of being \"...</td>\n",
       "      <td>technology</td>\n",
       "    </tr>\n",
       "    <tr>\n",
       "      <th>27</th>\n",
       "      <td>Intel calls off $5.4 billion purchase of Tower...</td>\n",
       "      <td>Intel and Israeli contract chipmaker Tower Sem...</td>\n",
       "      <td>technology</td>\n",
       "    </tr>\n",
       "    <tr>\n",
       "      <th>28</th>\n",
       "      <td>$10 billion wiped off Garena Free Fire owner S...</td>\n",
       "      <td>Garena Free Fire game and e-commerce platform ...</td>\n",
       "      <td>technology</td>\n",
       "    </tr>\n",
       "    <tr>\n",
       "      <th>29</th>\n",
       "      <td>India offering digital public infra to nations...</td>\n",
       "      <td>India's digital public infrastructure (DPI), i...</td>\n",
       "      <td>technology</td>\n",
       "    </tr>\n",
       "    <tr>\n",
       "      <th>30</th>\n",
       "      <td>Was 18, it was my homecoming as Miss Universe:...</td>\n",
       "      <td>Sushmita Sen, reacting to an old picture, reca...</td>\n",
       "      <td>entertainment</td>\n",
       "    </tr>\n",
       "    <tr>\n",
       "      <th>31</th>\n",
       "      <td>Angelina Jolie hires 15-year-old daughter Vivi...</td>\n",
       "      <td>Angelina Jolie has hired her 15-year-old daugh...</td>\n",
       "      <td>entertainment</td>\n",
       "    </tr>\n",
       "    <tr>\n",
       "      <th>32</th>\n",
       "      <td>Jacqueliene Fernandez allowed to travel abroad...</td>\n",
       "      <td>A Delhi court modified Jacqueliene Fernandez's...</td>\n",
       "      <td>entertainment</td>\n",
       "    </tr>\n",
       "    <tr>\n",
       "      <th>33</th>\n",
       "      <td>Alia Bhatt says Ranbir Kapoor makes her 'wipe ...</td>\n",
       "      <td>In a video for Vogue India, actress Alia Bhatt...</td>\n",
       "      <td>entertainment</td>\n",
       "    </tr>\n",
       "    <tr>\n",
       "      <th>34</th>\n",
       "      <td>New snake species named after Hollywood actor ...</td>\n",
       "      <td>A new snake species has been named Tachymenoid...</td>\n",
       "      <td>entertainment</td>\n",
       "    </tr>\n",
       "    <tr>\n",
       "      <th>35</th>\n",
       "      <td>BTS' J-Hope shares his new pics from military</td>\n",
       "      <td>South Korean boy band BTS' member J-Hope took ...</td>\n",
       "      <td>entertainment</td>\n",
       "    </tr>\n",
       "    <tr>\n",
       "      <th>36</th>\n",
       "      <td>Tovino Thomas files defamation case against In...</td>\n",
       "      <td>Malayalam actor Tovino Thomas reportedly filed...</td>\n",
       "      <td>entertainment</td>\n",
       "    </tr>\n",
       "    <tr>\n",
       "      <th>37</th>\n",
       "      <td>SRK sent me a long text when he saw me 1st tim...</td>\n",
       "      <td>Ananya Panday revealed when Shah Rukh Khan saw...</td>\n",
       "      <td>entertainment</td>\n",
       "    </tr>\n",
       "    <tr>\n",
       "      <th>38</th>\n",
       "      <td>I left home when I was 15, it was scary &amp; a cu...</td>\n",
       "      <td>Suhana Khan shared that she left home at the a...</td>\n",
       "      <td>entertainment</td>\n",
       "    </tr>\n",
       "    <tr>\n",
       "      <th>39</th>\n",
       "      <td>Sunny celebrates with team in private jet as G...</td>\n",
       "      <td>After his film 'Gadar 2' crossed the ₹200-cror...</td>\n",
       "      <td>entertainment</td>\n",
       "    </tr>\n",
       "  </tbody>\n",
       "</table>\n",
       "</div>"
      ],
      "text/plain": [
       "                                                title  \\\n",
       "0   Nifty50 firms chiefs' average remuneration dro...   \n",
       "1   H&M probes labour abuses at Myanmar garment fa...   \n",
       "2   Irish bank glitch lets people with no money wi...   \n",
       "3   Union Cabinet approves ₹32,500 crore for seven...   \n",
       "4            Netherlands slips into recession           \n",
       "5   Cardamom prices nearly double over low rainfal...   \n",
       "6   Govt plans stake sale in Indian Railway Financ...   \n",
       "7   Religare stock up 10% amid report of Dabur's B...   \n",
       "8   Avatar 2 financier sues Disney for withholding...   \n",
       "9   Tomatoes need vacation: Burger King India as i...   \n",
       "10  Bumrah like we have always known him: BCCI on ...   \n",
       "11  British Olympic swimmer Helen Smart dies 'sudd...   \n",
       "12  You tried rushing Bumrah thrice, he sat out fo...   \n",
       "13  Laughable: Ex-KKR director on Imran Khan's abs...   \n",
       "14  Shock of my life: Wasim Akram on PCB not inclu...   \n",
       "15  LOL, posts Ben Stokes on X after reversing ODI...   \n",
       "16  Stokes knows when to leave someone out, kick o...   \n",
       "17  Jadeja gets nod due to batting form: Ashwin on...   \n",
       "18  Defending champions England announce interim s...   \n",
       "19  Rohit must be aggressive, India should conside...   \n",
       "20  Aditya-L1 to study the Sun's atmosphere, space...   \n",
       "21  Cabinet extends Digital India program with ₹14...   \n",
       "22  TweetDeck now called XPro, goes behind paywall...   \n",
       "23  Heartening: MoS Science on Chandrayaan-3 finis...   \n",
       "24  Why is Apple paying $500 million to select iPh...   \n",
       "25  Tech has progressed faster in India compared t...   \n",
       "26  17 & 18-year-olds accused of hacking Nvidia, b...   \n",
       "27  Intel calls off $5.4 billion purchase of Tower...   \n",
       "28  $10 billion wiped off Garena Free Fire owner S...   \n",
       "29  India offering digital public infra to nations...   \n",
       "30  Was 18, it was my homecoming as Miss Universe:...   \n",
       "31  Angelina Jolie hires 15-year-old daughter Vivi...   \n",
       "32  Jacqueliene Fernandez allowed to travel abroad...   \n",
       "33  Alia Bhatt says Ranbir Kapoor makes her 'wipe ...   \n",
       "34  New snake species named after Hollywood actor ...   \n",
       "35      BTS' J-Hope shares his new pics from military   \n",
       "36  Tovino Thomas files defamation case against In...   \n",
       "37  SRK sent me a long text when he saw me 1st tim...   \n",
       "38  I left home when I was 15, it was scary & a cu...   \n",
       "39  Sunny celebrates with team in private jet as G...   \n",
       "\n",
       "                                              content       category  \n",
       "0   Combined remuneration for the heads of the Nif...       business  \n",
       "1   H&M is investigating 20 alleged instances of l...       business  \n",
       "2   A glitch in Bank of Ireland's app allowed cust...       business  \n",
       "3   Union Cabinet approved a ₹32,500-crore budget ...       business  \n",
       "4   The Dutch economy has entered a recession as i...       business  \n",
       "5   Cardamom prices are rising rapidly due to 30-5...       business  \n",
       "6   Government is considering selling some of its ...       business  \n",
       "7   Religare Enterprises' shares surged nearly 10%...       business  \n",
       "8   TSG Entertainment, which co-financed movies in...       business  \n",
       "9   Burger King has stopped adding tomatoes to its...       business  \n",
       "10  The BCCI took to social media to share a video...         sports  \n",
       "11  British Olympic swimmer Helen Smart passed awa...         sports  \n",
       "12  Talking about Team India pacer Jasprit Bumrah ...         sports  \n",
       "13  Reacting to Pakistan's 1992 World Cup-winning ...         sports  \n",
       "14  Reacting to PCB not including Imran Khan in a ...         sports  \n",
       "15  England all-rounder Ben Stokes took to X (form...         sports  \n",
       "16  England pacer James Anderson said England Test...         sports  \n",
       "17  Speaking about being dropped and all-rounder R...         sports  \n",
       "18  Defending champions England have announced the...         sports  \n",
       "19  India's 1983 World Cup-winning captain Kapil D...         sports  \n",
       "20  The Indian Space Research Organisation (ISRO) ...     technology  \n",
       "21  The Cabinet has extended Digital India program...     technology  \n",
       "22  XPro, earlier called TweetDeck, has been put b...     technology  \n",
       "23  After ISRO said it had successfully carried ou...     technology  \n",
       "24  Apple will start paying $500 million ($65 each...     technology  \n",
       "25  Intel's Executive Vice President and General M...     technology  \n",
       "26  A 17 and an 18-year-old are accused of being \"...     technology  \n",
       "27  Intel and Israeli contract chipmaker Tower Sem...     technology  \n",
       "28  Garena Free Fire game and e-commerce platform ...     technology  \n",
       "29  India's digital public infrastructure (DPI), i...     technology  \n",
       "30  Sushmita Sen, reacting to an old picture, reca...  entertainment  \n",
       "31  Angelina Jolie has hired her 15-year-old daugh...  entertainment  \n",
       "32  A Delhi court modified Jacqueliene Fernandez's...  entertainment  \n",
       "33  In a video for Vogue India, actress Alia Bhatt...  entertainment  \n",
       "34  A new snake species has been named Tachymenoid...  entertainment  \n",
       "35  South Korean boy band BTS' member J-Hope took ...  entertainment  \n",
       "36  Malayalam actor Tovino Thomas reportedly filed...  entertainment  \n",
       "37  Ananya Panday revealed when Shah Rukh Khan saw...  entertainment  \n",
       "38  Suhana Khan shared that she left home at the a...  entertainment  \n",
       "39  After his film 'Gadar 2' crossed the ₹200-cror...  entertainment  "
      ]
     },
     "execution_count": 29,
     "metadata": {},
     "output_type": "execute_result"
    }
   ],
   "source": [
    "inshorts_article_df = pd.DataFrame(inshorts)\n",
    "inshorts_article_df"
   ]
  },
  {
   "cell_type": "code",
   "execution_count": 30,
   "id": "11667e79",
   "metadata": {},
   "outputs": [],
   "source": [
    "inshorts_article_df.to_csv('news_articles.csv', index=False)"
   ]
  }
 ],
 "metadata": {
  "kernelspec": {
   "display_name": "Python 3 (ipykernel)",
   "language": "python",
   "name": "python3"
  },
  "language_info": {
   "codemirror_mode": {
    "name": "ipython",
    "version": 3
   },
   "file_extension": ".py",
   "mimetype": "text/x-python",
   "name": "python",
   "nbconvert_exporter": "python",
   "pygments_lexer": "ipython3",
   "version": "3.10.9"
  }
 },
 "nbformat": 4,
 "nbformat_minor": 5
}
