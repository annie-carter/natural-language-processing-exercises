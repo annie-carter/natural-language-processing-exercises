{
 "cells": [
  {
   "cell_type": "markdown",
   "id": "ba20cb07",
   "metadata": {},
   "source": [
    "# <span style = 'color:green'>DATA ACQUISITION EXERCISE"
   ]
  },
  {
   "attachments": {
    "7d77952a-86fc-42c0-b607-9b23aaabe409.png": {
     "image/png": "[encoded data removed]"
    }
   },
   "cell_type": "markdown",
   "id": "711ec901-1495-4bb4-a9a0-cfcb6fe095fa",
   "metadata": {},
   "source": [
    "![image.png](attachment:7d77952a-86fc-42c0-b607-9b23aaabe409.png)"
   ]
  },
  {
   "cell_type": "markdown",
   "id": "29e09599",
   "metadata": {},
   "source": [
    "### <span style = 'color:green'>Codeup Blog Articles\n",
    "\n",
    "Visit Codeup's Blog and record the urls for at least 5 distinct blog posts. For each post, you should scrape at least the post's title and content.\n",
    "\n",
    "Encapsulate your work in a function named get_blog_articles that will return a list of dictionaries, with each dictionary representing one article. The shape of each dictionary should look like this:\n",
    "\n",
    "\n",
    "{\n",
    "    'title': 'the title of the article',\n",
    "    'content': 'the full text content of the article'\n",
    "}\n",
    "Plus any additional properties you think might be helpful."
   ]
  },
  {
   "cell_type": "code",
   "execution_count": 1,
   "id": "a98abeea",
   "metadata": {},
   "outputs": [],
   "source": [
    "from requests import get\n",
    "from bs4 import BeautifulSoup\n",
    "import pandas as pd\n",
    "import os"
   ]
  },
  {
   "cell_type": "code",
   "execution_count": 2,
   "id": "0e12d6d0",
   "metadata": {},
   "outputs": [],
   "source": [
    "url = 'https://codeup.edu/blog/' \n",
    "headers = {'User-Agent': 'Codeup Data Science'} # Some websites don't accept the pyhon-requests default user-agent\n",
    "response = get(url, headers=headers)\n"
   ]
  },
  {
   "cell_type": "code",
   "execution_count": 3,
   "id": "b57817b8",
   "metadata": {},
   "outputs": [],
   "source": [
    "def get_blog_articles():\n",
    "    # if we already have the data, read it locally\n",
    "    if path.exists('article.txt'):\n",
    "        with open('article.txt') as f:\n",
    "            return f.read()\n",
    "\n",
    "    # otherwise go fetch the data\n",
    "    url = 'https://codeup.com'\n",
    "    headers = {\n",
    "    'title': 'the title of the article',\n",
    "    'content': 'the full text content of the article'\n",
    "}\n",
    "    response = get(url, headers=headers)\n",
    "    soup = BeautifulSoup(response.text)\n",
    "    article = soup.find('div', id='main-content')\n",
    "\n",
    "    # save it for next time\n",
    "    with open('article.txt', 'w') as f:\n",
    "        f.write(article.text)\n",
    "\n",
    "    return article.text"
   ]
  },
  {
   "cell_type": "code",
   "execution_count": 4,
   "id": "ceb39b7e",
   "metadata": {},
   "outputs": [
    {
     "name": "stdout",
     "output_type": "stream",
     "text": [
      "<!DOCTYPE html>\n",
      "<html lang=\"en-US\">\n",
      "<head>\n",
      "\t<meta charset=\"UTF-8\" />\n",
      "<meta http-equiv=\"X-UA-Compatible\" content=\"IE=edge\">\n",
      "\t<link rel=\"pingback\" href=\"https://codeup.edu/xmlrpc.php\" />\n",
      "\n",
      "\t<script type=\"text/javascript\">\n",
      "\t\tdocument.documentElement.className = 'js';\n",
      "\t</script>\n",
      "\t\n",
      "\t<link rel=\"preconnect\" href=\"https://fonts.gstatic.com\" crossorigin /><script id=\"diviarea-loader\">window.DiviPopupData=wi\n"
     ]
    }
   ],
   "source": [
    "print(response.text[:400])"
   ]
  },
  {
   "cell_type": "code",
   "execution_count": 5,
   "id": "f30d9692",
   "metadata": {},
   "outputs": [],
   "source": [
    "# Make a soup variable holding the response content\n",
    "blog_soup = BeautifulSoup(response.content, 'html.parser')\n"
   ]
  },
  {
   "cell_type": "code",
   "execution_count": 6,
   "id": "ee414063",
   "metadata": {},
   "outputs": [
    {
     "data": {
      "text/plain": [
       "[<a class=\"more-link\" href=\"https://codeup.edu/featured/apida-heritage-month/\">read more</a>,\n",
       " <a class=\"more-link\" href=\"https://codeup.edu/featured/women-in-tech-panelist-spotlight/\">read more</a>,\n",
       " <a class=\"more-link\" href=\"https://codeup.edu/featured/women-in-tech-rachel-robbins-mayhill/\">read more</a>,\n",
       " <a class=\"more-link\" href=\"https://codeup.edu/codeup-news/women-in-tech-panelist-spotlight-sarah-mellor/\">read more</a>,\n",
       " <a class=\"more-link\" href=\"https://codeup.edu/events/women-in-tech-madeleine/\">read more</a>,\n",
       " <a class=\"more-link\" href=\"https://codeup.edu/codeup-news/panelist-spotlight-4/\">read more</a>]"
      ]
     },
     "execution_count": 6,
     "metadata": {},
     "output_type": "execute_result"
    }
   ],
   "source": [
    "blog_soup.select('.more-link') #soup.find_all('a', class_='more-link')"
   ]
  },
  {
   "cell_type": "code",
   "execution_count": 7,
   "id": "86ea1777",
   "metadata": {},
   "outputs": [
    {
     "data": {
      "text/plain": [
       "<a class=\"more-link\" href=\"https://codeup.edu/featured/apida-heritage-month/\">read more</a>"
      ]
     },
     "execution_count": 7,
     "metadata": {},
     "output_type": "execute_result"
    }
   ],
   "source": [
    "blog_soup.select('.more-link')[0]"
   ]
  },
  {
   "cell_type": "code",
   "execution_count": 8,
   "id": "e46c3403",
   "metadata": {},
   "outputs": [
    {
     "data": {
      "text/plain": [
       "'https://codeup.edu/featured/apida-heritage-month/'"
      ]
     },
     "execution_count": 8,
     "metadata": {},
     "output_type": "execute_result"
    }
   ],
   "source": [
    "blog_soup.select('.more-link')[0]['href']"
   ]
  },
  {
   "cell_type": "code",
   "execution_count": 9,
   "id": "b4d76788",
   "metadata": {},
   "outputs": [
    {
     "data": {
      "text/plain": [
       "['https://codeup.edu/featured/apida-heritage-month/',\n",
       " 'https://codeup.edu/featured/women-in-tech-panelist-spotlight/',\n",
       " 'https://codeup.edu/featured/women-in-tech-rachel-robbins-mayhill/',\n",
       " 'https://codeup.edu/codeup-news/women-in-tech-panelist-spotlight-sarah-mellor/',\n",
       " 'https://codeup.edu/events/women-in-tech-madeleine/',\n",
       " 'https://codeup.edu/codeup-news/panelist-spotlight-4/']"
      ]
     },
     "execution_count": 9,
     "metadata": {},
     "output_type": "execute_result"
    }
   ],
   "source": [
    "links = [link['href'] for link in blog_soup.select('.more-link')]\n",
    "links"
   ]
  },
  {
   "cell_type": "markdown",
   "id": "398f2cb7",
   "metadata": {},
   "source": [
    "#### <span style = 'color:green'>Get BLOG content"
   ]
  },
  {
   "cell_type": "code",
   "execution_count": 10,
   "id": "2a1cd862",
   "metadata": {},
   "outputs": [],
   "source": [
    "url = links[0]\n",
    "response = get(url, headers=headers)\n",
    "soup = BeautifulSoup(response.text)\n"
   ]
  },
  {
   "cell_type": "code",
   "execution_count": 11,
   "id": "f6f20a04",
   "metadata": {},
   "outputs": [
    {
     "data": {
      "text/plain": [
       "'Spotlight on APIDA Voices: Celebrating Heritage and Inspiring Change ft. Arbeena Thapa'"
      ]
     },
     "execution_count": 11,
     "metadata": {},
     "output_type": "execute_result"
    }
   ],
   "source": [
    "soup.find('h1', class_='entry-title').text"
   ]
  },
  {
   "cell_type": "code",
   "execution_count": 12,
   "id": "4fcca070",
   "metadata": {},
   "outputs": [
    {
     "data": {
      "text/plain": [
       "'May is traditionally known as Asian American and Pacific Islander (AAPI) Heritage Month. This month we celebrate the history and contributions made possible by our AAPI friends, family, and community. We also examine our level of support and seek opportunities to better understand the AAPI community.\\n\\nIn an effort to address real concerns and experiences, we sat down with Arbeena Thapa, one of Codeup’s Financial Aid and Enrollment Managers.\\nArbeena identifies as Nepali American and Desi. Arbeena’s parents immigrated to Texas in 1988 for better employment and educational opportunities. Arbeena’s older sister was five when they made the move to the US. Arbeena was born later, becoming the first in her family to be a US citizen.\\nAt Codeup we take our efforts at inclusivity very seriously. After speaking with Arbeena, we were taught that the term AAPI excludes Desi-American individuals. Hence, we will now use the term Asian Pacific Islander Desi American (APIDA).\\nHere is how the rest of our conversation with Arbeena went!\\nHow do you celebrate or connect with your heritage and cultural traditions?\\n“I celebrate Nepal’s version of Christmas or Dashain. This is a nine-day celebration also known as Dussehra. I grew up as Hindu and I identify as Hindu, this is a very large part of my heritage. “\\n“Other ways I connect with my culture include sharing food! Momos are South Asian Dumplings and they’re my favorite to make and share.”\\n“On my Asian American side, I am an advocate of immigrant justice and erasure within APIDA social or political movements. I participate in events to embrace my identity such as immigrant justice advocacy because I come from a mixed-status family. I’ve always been in a community with undocumented Asian immigrants. .”\\nWhat are some of the challenges you have faced as an APIDA individual, personally or professionally?\\n“I often struggle with being gendered as compliant or a pushover. Professionally, I am often stereotyped as meek, so I’ve been overlooked for leadership roles. We are seen as perpetually foreign; people tend to other us in that way, yet put us on a pedestal for what a model minority looks like. This has made me hesitant to share my heritage in the past because these assumptions get mapped onto me. ”\\nCan you describe some common barriers of entry that APIDA individuals, specifically women may face when trying to enter or advance in the workplace?\\n“Being overlooked for leadership. In the past, I have not been viewed as a leader. People sometimes have preconceived stereotypes of Asian women not being able to be bold, or being vocal can be mistaken for being too emotional. “\\nHow do you believe microaggressions impact APIDA individuals in the workplace? Can you provide examples of such microaggressions?\\n“Erasure is big. To me, only saying ‘Merry Christmas’ isn’t inclusive to other religions. People are often resistant to saying ‘Happy Holidays,’ but saying Merry Christmas excludes, and does not appreciate my heritage. “\\n“Often microaggressions are not micro at all. They typically are not aggressive racialized violence, but the term ‘micro’ minimizes impact.”\\n“Some that I’ve heard are ‘What kind of Asian are you?’ or ‘Where are you from?’ This automatically makes me the ‘other’ and not seen as American. Even within the APIDA community, South Asians are overlooked as “Asian”.”\\nHow important is representation, specifically APIDA representation, in organizational leadership positions?\\n“I want to say that it is important to have someone who looks like you in leadership roles, and it is, but those leaders may not share the same beliefs as you. Certain privileges such as wealth, resources, or lack of interaction with lower-socioeconomic-status Asian Americans may cause a difference in community politics. I do not think the bamboo ceiling is acceptable, but the company you work for plays a big part in your politics and belief alignment.”\\nHow do you feel about code-switching, and have you ever felt it necessary to code-switch?\\n“I like sharing South Asian terms or connecting with others that have similar heritage and culture. A workplace that is welcoming to going into this sort of breakout is refreshing and makes space for us. However, having to code-switch could also mean a workplace that is not conducive and welcoming of other cultures. “\\nFinally, in your opinion, what long-term strategies can create lasting change in the workplace and ensure support, equality, and inclusion for APIDA individuals?\\n“Prior to a career in financial aid, I did a lot of research related to the post-9/11 immigration of the South Asian diaspora. This background made me heavily rely on grassroots organizing. Hire the people that want to innovate, hire the changemakers, hire the button-pushers. Reduce reliance on whiteness as change. This will become natural for the organization and become organizational change. Change comes from us on the ground.”\\nA huge thank you to Arbeena Thapa for sharing her experiences, and being vulnerable with us. Your words were inspiring and the opportunity to understand your perspective more has been valuable. We hope we can become better support for the APIDA community as we learn and grow on our journey of cultivating inclusive growth.'"
      ]
     },
     "execution_count": 12,
     "metadata": {},
     "output_type": "execute_result"
    }
   ],
   "source": [
    "soup.find('div', class_='entry-content').text.strip()"
   ]
  },
  {
   "cell_type": "code",
   "execution_count": 14,
   "id": "46121515",
   "metadata": {},
   "outputs": [],
   "source": [
    "# R. McCall Instructor Code\n",
    "def blog_soup():\n",
    "    url = 'https://codeup.edu/blog/'\n",
    "    headers = {'User-Agent': 'Codeup Data Science'}\n",
    "    response = get(url, headers=headers)\n",
    "    \n",
    "    soup = BeautifulSoup(response.content, 'html.parser')\n",
    "    \n",
    "    links = [link['href'] for link in soup.select('.more-link')]\n",
    "    \n",
    "    articles = []\n",
    "    \n",
    "    for url in links:\n",
    "        \n",
    "        url_response = get(url, headers=headers)\n",
    "        soup = BeautifulSoup(url_response.text)\n",
    "        \n",
    "        title = soup.find('h1', class_='entry-title').text\n",
    "        content = soup.find('div', class_='entry-content').text.strip()\n",
    "        \n",
    "        article_dict = {\n",
    "            'title': title,\n",
    "            'content': content\n",
    "        }\n",
    "        \n",
    "        articles.append(article_dict)"
   ]
  },
  {
   "cell_type": "code",
   "execution_count": 15,
   "id": "87140a6f",
   "metadata": {},
   "outputs": [
    {
     "ename": "NameError",
     "evalue": "name 'articles' is not defined",
     "output_type": "error",
     "traceback": [
      "\u001b[0;31m---------------------------------------------------------------------------\u001b[0m",
      "\u001b[0;31mNameError\u001b[0m                                 Traceback (most recent call last)",
      "Cell \u001b[0;32mIn[15], line 1\u001b[0m\n\u001b[0;32m----> 1\u001b[0m \u001b[43marticles\u001b[49m[\u001b[38;5;241m0\u001b[39m:\u001b[38;5;241m5\u001b[39m]\n",
      "\u001b[0;31mNameError\u001b[0m: name 'articles' is not defined"
     ]
    }
   ],
   "source": [
    "articles[0:5]"
   ]
  },
  {
   "cell_type": "code",
   "execution_count": null,
   "id": "05cb06b1",
   "metadata": {},
   "outputs": [],
   "source": [
    "blog_soup_df = pd.DataFrame(articles)\n",
    "blog_soup_df"
   ]
  },
  {
   "cell_type": "code",
   "execution_count": null,
   "id": "9a98d922",
   "metadata": {},
   "outputs": [],
   "source": [
    "blog_soup_df.to_csv('blog_articles.csv', index=False)"
   ]
  },
  {
   "attachments": {
    "98719d1e-f7c8-4dc1-a3a8-9a71e6971bb8.png": {
     "image/png": "[encoded data removed]"
    }
   },
   "cell_type": "markdown",
   "id": "21b5acf4-8f90-4c3a-bd88-60d3d17234d0",
   "metadata": {},
   "source": [
    "![image.png](attachment:98719d1e-f7c8-4dc1-a3a8-9a71e6971bb8.png)"
   ]
  },
  {
   "cell_type": "markdown",
   "id": "00cbca64",
   "metadata": {},
   "source": [
    "## <span style = 'color:red'>News Articles\n",
    "\n",
    "We will now be scraping text data from inshorts, a website that provides a brief overview of many different topics.\n",
    "\n",
    "Write a function that scrapes the news articles for the following topics:\n",
    "\n",
    "Business\n",
    "Sports\n",
    "Technology\n",
    "Entertainment\n",
    "The end product of this should be a function named get_news_articles that returns a list of dictionaries, where each dictionary has this shape:\n",
    "\n",
    "\n",
    "{\n",
    "    'title': 'The article title',\n",
    "    'content': 'The article content',\n",
    "    'category': 'business' # for example\n",
    "}\n"
   ]
  },
  {
   "cell_type": "code",
   "execution_count": null,
   "id": "391f1813",
   "metadata": {},
   "outputs": [],
   "source": [
    "#url = 'https://inshorts.com/'"
   ]
  },
  {
   "cell_type": "code",
   "execution_count": null,
   "id": "f610d500",
   "metadata": {},
   "outputs": [],
   "source": [
    "#My article code\n",
    "def get_article_text():\n",
    "    \n",
    "    # Go fetch the data\n",
    "    url = 'https://inshorts.com/'\n",
    "    headers = {\n",
    "    'title': 'The article title',\n",
    "    'content': 'The article content',\n",
    "    'category': 'business'\n",
    "}\n",
    "\n",
    "    response = get(url, headers=headers)\n",
    "    soup = BeautifulSoup(response.text)\n",
    "    article = soup.find('div', id='main-content')\n",
    "\n",
    "    # save it for next time\n",
    "    with open('article.txt', 'w') as f:\n",
    "        f.write(article.text)\n",
    "    return article.text\n",
    "\n",
    "\n"
   ]
  },
  {
   "cell_type": "code",
   "execution_count": 18,
   "id": "ff5d6bdb",
   "metadata": {},
   "outputs": [],
   "source": [
    "\n",
    "url = 'https://inshorts.com/en/read'\n",
    "response = get(url)\n",
    "soup = BeautifulSoup(response.content, 'html.parser')"
   ]
  },
  {
   "cell_type": "code",
   "execution_count": 19,
   "id": "cb98e216-2347-4344-91fe-38a8480c3e52",
   "metadata": {},
   "outputs": [
    {
     "data": {
      "text/plain": [
       "'What are the schemes & projects approved by Centre today?'"
      ]
     },
     "execution_count": 19,
     "metadata": {},
     "output_type": "execute_result"
    }
   ],
   "source": [
    "#get title\n",
    "soup.find_all('span', itemprop='headline')[0].text"
   ]
  },
  {
   "cell_type": "code",
   "execution_count": 20,
   "id": "9645688e-9f33-4345-8fbd-f6daf24de44b",
   "metadata": {},
   "outputs": [
    {
     "data": {
      "text/plain": [
       "'The Union Cabinet on Wednesday approved several schemes and projects, including deployment of 10,000 electric buses in 169 cities for an estimated ₹57,613 crore. PM Vishwakarma Scheme for subsidised loans to traditional artisans and extension of the Digital India project were also approved. Seven Railways projects worth ₹32,500 crore to increase rail network by 2,339 km also got Cabinet nod.'"
      ]
     },
     "execution_count": 20,
     "metadata": {},
     "output_type": "execute_result"
    }
   ],
   "source": [
    "#get content\n",
    "soup.find_all('div', itemprop='articleBody')[0].text"
   ]
  },
  {
   "cell_type": "code",
   "execution_count": 26,
   "id": "24fc16e6",
   "metadata": {},
   "outputs": [],
   "source": [
    "#R. McCall Instructor code\n",
    "categories = ['business', 'sports', 'technology', 'entertainment']\n",
    "\n",
    "inshorts = []\n",
    "\n",
    "for category in categories:\n",
    "    \n",
    "    url = 'https://inshorts.com/en/read' + '/' + category\n",
    "    response = get(url)\n",
    "    soup = BeautifulSoup(response.content, 'html.parser')\n",
    "    \n",
    "    titles = [span.text for span in soup.find_all('span', itemprop='headline')]\n",
    "    contents = [div.text for div in soup.find_all('div', itemprop='articleBody')]\n",
    "    \n",
    "    for i in range(len(titles)):\n",
    "        \n",
    "        article = {\n",
    "            'title': titles[i],\n",
    "            'content': contents[i],\n",
    "            'category': category,\n",
    "        }\n",
    "        \n",
    "        inshorts.append(article)"
   ]
  },
  {
   "cell_type": "code",
   "execution_count": 27,
   "id": "1edf0ed2-67cb-4dc0-89fe-24fce9f84845",
   "metadata": {},
   "outputs": [
    {
     "data": {
      "text/plain": [
       "[{'title': 'Antfin transfers 10.3% stake to Paytm chief Vijay Shekhar Sharma',\n",
       "  'content': 'Antfin (Netherlands) Holding BV has transferred its 10.3% stake in One97 Communications to Founder Vijay Shekhar Sharma, a regulatory filing said. The deal turns One97 Communications, which operates under Paytm brand name, into a majorly Indian-owned company from being majorly owned by Chinese entities. The transaction was completed on August 14, which brought total stake of Antfin to 13.49%. \\n',\n",
       "  'category': 'business'},\n",
       " {'title': 'Nepal asks India for rice, sugar to avert possible food scarcity',\n",
       "  'content': 'Nepal government has requested India to facilitate the supply of paddy, rice and sugar as a precautionary measure to mitigate any possible food scarcity in the festive season—October and November. \"Nepal has requested India to provide one million tonnes of paddy, 100,000 tonnes of rice and 50,000 tonnes of sugar,\" Commerce and Supplies Ministry Joint Secretary Ram Chandra Tiwari said.',\n",
       "  'category': 'business'},\n",
       " {'title': 'GQG Partners buys 8.1% stake in Adani Power for $1.1 bn: Report',\n",
       "  'content': 'Investment firm GQG Partners bought an 8.1% stake in Adani Power for $1.1 billion via block deals on Wednesday, Reuters cited a source as saying. Multiple GQG funds bought around 152.1 million shares, BSE data showed, from Worldwide Emerging Market Holding and Afro Asia Trade and Investments. The investment comes days after Deloitte quit as auditor for Adani Ports.',\n",
       "  'category': 'business'},\n",
       " {'title': 'USDA cuts rice trade forecast for 2023, 2024 post India export ban',\n",
       "  'content': \"US Department of Agriculture (USDA) lowered the global rice trade forecast for calendar years 2023 and 2024 following India's ban on exports of non-basmati white rice. Trade estimate has been lowered by two million tonnes for 2023 and by 3.44 million tonnes for 2024. India accounts for over 40% of global rice exports, which was 56 million tonnes in 2022. \",\n",
       "  'category': 'business'},\n",
       " {'title': \"Hyundai to buy General Motors' Talegaon plant in Maharashtra\",\n",
       "  'content': 'Hyundai Motor India signed an asset purchase agreement to buy Talegaon plant of General Motors\\' India unit in Maharashtra to boost production. The buyout is expected to increase Hyundai\\'s annual production capacity to 10 lakh units, which was recently scaled up to 8.2 lakh. \"We intend to create an advanced manufacturing centre for cars Made-in-India,\" Hyundai Motor India MD said.',\n",
       "  'category': 'business'}]"
      ]
     },
     "execution_count": 27,
     "metadata": {},
     "output_type": "execute_result"
    }
   ],
   "source": [
    "inshorts[0:5]"
   ]
  },
  {
   "cell_type": "code",
   "execution_count": 28,
   "id": "92a8d517-6087-4841-9c02-6a3cb45c9765",
   "metadata": {},
   "outputs": [
    {
     "data": {
      "text/html": [
       "<div>\n",
       "<style scoped>\n",
       "    .dataframe tbody tr th:only-of-type {\n",
       "        vertical-align: middle;\n",
       "    }\n",
       "\n",
       "    .dataframe tbody tr th {\n",
       "        vertical-align: top;\n",
       "    }\n",
       "\n",
       "    .dataframe thead th {\n",
       "        text-align: right;\n",
       "    }\n",
       "</style>\n",
       "<table border=\"1\" class=\"dataframe\">\n",
       "  <thead>\n",
       "    <tr style=\"text-align: right;\">\n",
       "      <th></th>\n",
       "      <th>title</th>\n",
       "      <th>content</th>\n",
       "      <th>category</th>\n",
       "    </tr>\n",
       "  </thead>\n",
       "  <tbody>\n",
       "    <tr>\n",
       "      <th>0</th>\n",
       "      <td>Antfin transfers 10.3% stake to Paytm chief Vi...</td>\n",
       "      <td>Antfin (Netherlands) Holding BV has transferre...</td>\n",
       "      <td>business</td>\n",
       "    </tr>\n",
       "    <tr>\n",
       "      <th>1</th>\n",
       "      <td>Nepal asks India for rice, sugar to avert poss...</td>\n",
       "      <td>Nepal government has requested India to facili...</td>\n",
       "      <td>business</td>\n",
       "    </tr>\n",
       "    <tr>\n",
       "      <th>2</th>\n",
       "      <td>GQG Partners buys 8.1% stake in Adani Power fo...</td>\n",
       "      <td>Investment firm GQG Partners bought an 8.1% st...</td>\n",
       "      <td>business</td>\n",
       "    </tr>\n",
       "    <tr>\n",
       "      <th>3</th>\n",
       "      <td>USDA cuts rice trade forecast for 2023, 2024 p...</td>\n",
       "      <td>US Department of Agriculture (USDA) lowered th...</td>\n",
       "      <td>business</td>\n",
       "    </tr>\n",
       "    <tr>\n",
       "      <th>4</th>\n",
       "      <td>Hyundai to buy General Motors' Talegaon plant ...</td>\n",
       "      <td>Hyundai Motor India signed an asset purchase a...</td>\n",
       "      <td>business</td>\n",
       "    </tr>\n",
       "    <tr>\n",
       "      <th>5</th>\n",
       "      <td>Nifty50 firms chiefs' average remuneration dro...</td>\n",
       "      <td>Combined remuneration for the heads of the Nif...</td>\n",
       "      <td>business</td>\n",
       "    </tr>\n",
       "    <tr>\n",
       "      <th>6</th>\n",
       "      <td>H&amp;M probes labour abuses at Myanmar garment fa...</td>\n",
       "      <td>H&amp;M is investigating 20 alleged instances of l...</td>\n",
       "      <td>business</td>\n",
       "    </tr>\n",
       "    <tr>\n",
       "      <th>7</th>\n",
       "      <td>Irish bank glitch lets people with no money wi...</td>\n",
       "      <td>A glitch in Bank of Ireland's app allowed cust...</td>\n",
       "      <td>business</td>\n",
       "    </tr>\n",
       "    <tr>\n",
       "      <th>8</th>\n",
       "      <td>Union Cabinet approves ₹32,500 crore for seven...</td>\n",
       "      <td>Union Cabinet approved a ₹32,500-crore budget ...</td>\n",
       "      <td>business</td>\n",
       "    </tr>\n",
       "    <tr>\n",
       "      <th>9</th>\n",
       "      <td>Netherlands slips into recession</td>\n",
       "      <td>The Dutch economy has entered a recession as i...</td>\n",
       "      <td>business</td>\n",
       "    </tr>\n",
       "    <tr>\n",
       "      <th>10</th>\n",
       "      <td>India's Gukesh D, Vidit Gujrathi crash out of ...</td>\n",
       "      <td>India's Gukesh D and Vidit Gujrathi have crash...</td>\n",
       "      <td>sports</td>\n",
       "    </tr>\n",
       "    <tr>\n",
       "      <th>11</th>\n",
       "      <td>After scoring 369 runs in 2 matches, Shaw rule...</td>\n",
       "      <td>Northamptonshire's Indian batter Prithvi Shaw ...</td>\n",
       "      <td>sports</td>\n",
       "    </tr>\n",
       "    <tr>\n",
       "      <th>12</th>\n",
       "      <td>I do not make the pitch, I do not roll the pit...</td>\n",
       "      <td>Talking about rank turners in India, all-round...</td>\n",
       "      <td>sports</td>\n",
       "    </tr>\n",
       "    <tr>\n",
       "      <th>13</th>\n",
       "      <td>Kishan flaunts his new MS Dhoni-like look with...</td>\n",
       "      <td>Team India wicketkeeper-batter Ishan Kishan to...</td>\n",
       "      <td>sports</td>\n",
       "    </tr>\n",
       "    <tr>\n",
       "      <th>14</th>\n",
       "      <td>Imran is our greatest player: Ex-Pak captain M...</td>\n",
       "      <td>Talking about Pakistan's 1992 World Cup-winnin...</td>\n",
       "      <td>sports</td>\n",
       "    </tr>\n",
       "    <tr>\n",
       "      <th>15</th>\n",
       "      <td>Was smashed for sixes, had to learn a lot: Ash...</td>\n",
       "      <td>Talking about his first tour of Australia in 2...</td>\n",
       "      <td>sports</td>\n",
       "    </tr>\n",
       "    <tr>\n",
       "      <th>16</th>\n",
       "      <td>Kohli demanded excellence, current team lacks ...</td>\n",
       "      <td>Ex-India cricketer Balwinder Singh Sandhu, who...</td>\n",
       "      <td>sports</td>\n",
       "    </tr>\n",
       "    <tr>\n",
       "      <th>17</th>\n",
       "      <td>Dhawan doesn't get credit, he was missed in 20...</td>\n",
       "      <td>Ex-Team India head coach Ravi Shastri said bat...</td>\n",
       "      <td>sports</td>\n",
       "    </tr>\n",
       "    <tr>\n",
       "      <th>18</th>\n",
       "      <td>I guess he will get his British passport soon,...</td>\n",
       "      <td>Talking about Cheteshwar Pujara's county crick...</td>\n",
       "      <td>sports</td>\n",
       "    </tr>\n",
       "    <tr>\n",
       "      <th>19</th>\n",
       "      <td>Ravichandran Ashwin clarifies his 'Now everybo...</td>\n",
       "      <td>Ravichandran Ashwin clarified his remark where...</td>\n",
       "      <td>sports</td>\n",
       "    </tr>\n",
       "    <tr>\n",
       "      <th>20</th>\n",
       "      <td>I've been locked out of X for 17 days after re...</td>\n",
       "      <td>Scott Galloway, a Professor of Marketing at NY...</td>\n",
       "      <td>technology</td>\n",
       "    </tr>\n",
       "    <tr>\n",
       "      <th>21</th>\n",
       "      <td>Scientists reconstruct Pink Floyd song from re...</td>\n",
       "      <td>Researchers from the University of California,...</td>\n",
       "      <td>technology</td>\n",
       "    </tr>\n",
       "    <tr>\n",
       "      <th>22</th>\n",
       "      <td>Russia's Luna-25 spacecraft enters lunar orbit...</td>\n",
       "      <td>Russia's lunar spacecraft entered the Moon's o...</td>\n",
       "      <td>technology</td>\n",
       "    </tr>\n",
       "    <tr>\n",
       "      <th>23</th>\n",
       "      <td>Aditya-L1 to study the Sun's atmosphere, space...</td>\n",
       "      <td>The Indian Space Research Organisation (ISRO) ...</td>\n",
       "      <td>technology</td>\n",
       "    </tr>\n",
       "    <tr>\n",
       "      <th>24</th>\n",
       "      <td>Cabinet extends Digital India program with ₹14...</td>\n",
       "      <td>The Cabinet has extended Digital India program...</td>\n",
       "      <td>technology</td>\n",
       "    </tr>\n",
       "    <tr>\n",
       "      <th>25</th>\n",
       "      <td>TweetDeck now called XPro, goes behind paywall...</td>\n",
       "      <td>XPro, earlier called TweetDeck, has been put b...</td>\n",
       "      <td>technology</td>\n",
       "    </tr>\n",
       "    <tr>\n",
       "      <th>26</th>\n",
       "      <td>Heartening: MoS Science on Chandrayaan-3 finis...</td>\n",
       "      <td>After ISRO said it had successfully carried ou...</td>\n",
       "      <td>technology</td>\n",
       "    </tr>\n",
       "    <tr>\n",
       "      <th>27</th>\n",
       "      <td>Why is Apple paying $500 million to select iPh...</td>\n",
       "      <td>Apple will start paying $500 million ($65 each...</td>\n",
       "      <td>technology</td>\n",
       "    </tr>\n",
       "    <tr>\n",
       "      <th>28</th>\n",
       "      <td>Tech has progressed faster in India compared t...</td>\n",
       "      <td>Intel's Executive Vice President and General M...</td>\n",
       "      <td>technology</td>\n",
       "    </tr>\n",
       "    <tr>\n",
       "      <th>29</th>\n",
       "      <td>17 &amp; 18-year-olds accused of hacking Nvidia, b...</td>\n",
       "      <td>A 17 and an 18-year-old are accused of being \"...</td>\n",
       "      <td>technology</td>\n",
       "    </tr>\n",
       "    <tr>\n",
       "      <th>30</th>\n",
       "      <td>Aditya &amp; Karan couldn't make better films than...</td>\n",
       "      <td>Actress Farida Jalal said she still feels that...</td>\n",
       "      <td>entertainment</td>\n",
       "    </tr>\n",
       "    <tr>\n",
       "      <th>31</th>\n",
       "      <td>I am seriously considering making Mahabharat: ...</td>\n",
       "      <td>Filmmaker Vivek Agnihotri said he is \"seriousl...</td>\n",
       "      <td>entertainment</td>\n",
       "    </tr>\n",
       "    <tr>\n",
       "      <th>32</th>\n",
       "      <td>Govt refutes report of Gadar 2 'VIP screening'...</td>\n",
       "      <td>Government has refuted report of an \"Exclusive...</td>\n",
       "      <td>entertainment</td>\n",
       "    </tr>\n",
       "    <tr>\n",
       "      <th>33</th>\n",
       "      <td>Salman Khan once called me a fat cow, said 'ev...</td>\n",
       "      <td>Speaking with Siddharth Kannan, Rohit Roy reca...</td>\n",
       "      <td>entertainment</td>\n",
       "    </tr>\n",
       "    <tr>\n",
       "      <th>34</th>\n",
       "      <td>Was offered Sidharth Shukla's season of Bigg B...</td>\n",
       "      <td>Rapper Emiway Bantai shared he was offered 'Bi...</td>\n",
       "      <td>entertainment</td>\n",
       "    </tr>\n",
       "    <tr>\n",
       "      <th>35</th>\n",
       "      <td>Ranbir Kapoor buys Range Rover car worth ₹4 cr...</td>\n",
       "      <td>Actor Ranbir Kapoor has bought a new Range Rov...</td>\n",
       "      <td>entertainment</td>\n",
       "    </tr>\n",
       "    <tr>\n",
       "      <th>36</th>\n",
       "      <td>SRK reacts to Gauri's post on Suhana, says she...</td>\n",
       "      <td>Shah Rukh Khan, reacting to Gauri Khan's post ...</td>\n",
       "      <td>entertainment</td>\n",
       "    </tr>\n",
       "    <tr>\n",
       "      <th>37</th>\n",
       "      <td>Can be my authentic self with him: Alia on Ran...</td>\n",
       "      <td>Actress Alia Bhatt, during an Ask Me Anything ...</td>\n",
       "      <td>entertainment</td>\n",
       "    </tr>\n",
       "    <tr>\n",
       "      <th>38</th>\n",
       "      <td>Alia talks about 'toxicity' amid criticism aga...</td>\n",
       "      <td>Alia Bhatt talked about \"toxicity and criticis...</td>\n",
       "      <td>entertainment</td>\n",
       "    </tr>\n",
       "    <tr>\n",
       "      <th>39</th>\n",
       "      <td>Was 18, it was my homecoming as Miss Universe:...</td>\n",
       "      <td>Sushmita Sen, reacting to an old picture, reca...</td>\n",
       "      <td>entertainment</td>\n",
       "    </tr>\n",
       "  </tbody>\n",
       "</table>\n",
       "</div>"
      ],
      "text/plain": [
       "                                                title  \\\n",
       "0   Antfin transfers 10.3% stake to Paytm chief Vi...   \n",
       "1   Nepal asks India for rice, sugar to avert poss...   \n",
       "2   GQG Partners buys 8.1% stake in Adani Power fo...   \n",
       "3   USDA cuts rice trade forecast for 2023, 2024 p...   \n",
       "4   Hyundai to buy General Motors' Talegaon plant ...   \n",
       "5   Nifty50 firms chiefs' average remuneration dro...   \n",
       "6   H&M probes labour abuses at Myanmar garment fa...   \n",
       "7   Irish bank glitch lets people with no money wi...   \n",
       "8   Union Cabinet approves ₹32,500 crore for seven...   \n",
       "9            Netherlands slips into recession           \n",
       "10  India's Gukesh D, Vidit Gujrathi crash out of ...   \n",
       "11  After scoring 369 runs in 2 matches, Shaw rule...   \n",
       "12  I do not make the pitch, I do not roll the pit...   \n",
       "13  Kishan flaunts his new MS Dhoni-like look with...   \n",
       "14  Imran is our greatest player: Ex-Pak captain M...   \n",
       "15  Was smashed for sixes, had to learn a lot: Ash...   \n",
       "16  Kohli demanded excellence, current team lacks ...   \n",
       "17  Dhawan doesn't get credit, he was missed in 20...   \n",
       "18  I guess he will get his British passport soon,...   \n",
       "19  Ravichandran Ashwin clarifies his 'Now everybo...   \n",
       "20  I've been locked out of X for 17 days after re...   \n",
       "21  Scientists reconstruct Pink Floyd song from re...   \n",
       "22  Russia's Luna-25 spacecraft enters lunar orbit...   \n",
       "23  Aditya-L1 to study the Sun's atmosphere, space...   \n",
       "24  Cabinet extends Digital India program with ₹14...   \n",
       "25  TweetDeck now called XPro, goes behind paywall...   \n",
       "26  Heartening: MoS Science on Chandrayaan-3 finis...   \n",
       "27  Why is Apple paying $500 million to select iPh...   \n",
       "28  Tech has progressed faster in India compared t...   \n",
       "29  17 & 18-year-olds accused of hacking Nvidia, b...   \n",
       "30  Aditya & Karan couldn't make better films than...   \n",
       "31  I am seriously considering making Mahabharat: ...   \n",
       "32  Govt refutes report of Gadar 2 'VIP screening'...   \n",
       "33  Salman Khan once called me a fat cow, said 'ev...   \n",
       "34  Was offered Sidharth Shukla's season of Bigg B...   \n",
       "35  Ranbir Kapoor buys Range Rover car worth ₹4 cr...   \n",
       "36  SRK reacts to Gauri's post on Suhana, says she...   \n",
       "37  Can be my authentic self with him: Alia on Ran...   \n",
       "38  Alia talks about 'toxicity' amid criticism aga...   \n",
       "39  Was 18, it was my homecoming as Miss Universe:...   \n",
       "\n",
       "                                              content       category  \n",
       "0   Antfin (Netherlands) Holding BV has transferre...       business  \n",
       "1   Nepal government has requested India to facili...       business  \n",
       "2   Investment firm GQG Partners bought an 8.1% st...       business  \n",
       "3   US Department of Agriculture (USDA) lowered th...       business  \n",
       "4   Hyundai Motor India signed an asset purchase a...       business  \n",
       "5   Combined remuneration for the heads of the Nif...       business  \n",
       "6   H&M is investigating 20 alleged instances of l...       business  \n",
       "7   A glitch in Bank of Ireland's app allowed cust...       business  \n",
       "8   Union Cabinet approved a ₹32,500-crore budget ...       business  \n",
       "9   The Dutch economy has entered a recession as i...       business  \n",
       "10  India's Gukesh D and Vidit Gujrathi have crash...         sports  \n",
       "11  Northamptonshire's Indian batter Prithvi Shaw ...         sports  \n",
       "12  Talking about rank turners in India, all-round...         sports  \n",
       "13  Team India wicketkeeper-batter Ishan Kishan to...         sports  \n",
       "14  Talking about Pakistan's 1992 World Cup-winnin...         sports  \n",
       "15  Talking about his first tour of Australia in 2...         sports  \n",
       "16  Ex-India cricketer Balwinder Singh Sandhu, who...         sports  \n",
       "17  Ex-Team India head coach Ravi Shastri said bat...         sports  \n",
       "18  Talking about Cheteshwar Pujara's county crick...         sports  \n",
       "19  Ravichandran Ashwin clarified his remark where...         sports  \n",
       "20  Scott Galloway, a Professor of Marketing at NY...     technology  \n",
       "21  Researchers from the University of California,...     technology  \n",
       "22  Russia's lunar spacecraft entered the Moon's o...     technology  \n",
       "23  The Indian Space Research Organisation (ISRO) ...     technology  \n",
       "24  The Cabinet has extended Digital India program...     technology  \n",
       "25  XPro, earlier called TweetDeck, has been put b...     technology  \n",
       "26  After ISRO said it had successfully carried ou...     technology  \n",
       "27  Apple will start paying $500 million ($65 each...     technology  \n",
       "28  Intel's Executive Vice President and General M...     technology  \n",
       "29  A 17 and an 18-year-old are accused of being \"...     technology  \n",
       "30  Actress Farida Jalal said she still feels that...  entertainment  \n",
       "31  Filmmaker Vivek Agnihotri said he is \"seriousl...  entertainment  \n",
       "32  Government has refuted report of an \"Exclusive...  entertainment  \n",
       "33  Speaking with Siddharth Kannan, Rohit Roy reca...  entertainment  \n",
       "34  Rapper Emiway Bantai shared he was offered 'Bi...  entertainment  \n",
       "35  Actor Ranbir Kapoor has bought a new Range Rov...  entertainment  \n",
       "36  Shah Rukh Khan, reacting to Gauri Khan's post ...  entertainment  \n",
       "37  Actress Alia Bhatt, during an Ask Me Anything ...  entertainment  \n",
       "38  Alia Bhatt talked about \"toxicity and criticis...  entertainment  \n",
       "39  Sushmita Sen, reacting to an old picture, reca...  entertainment  "
      ]
     },
     "execution_count": 28,
     "metadata": {},
     "output_type": "execute_result"
    }
   ],
   "source": [
    "inshorts_article_df = pd.DataFrame(inshorts)\n",
    "inshorts_article_df"
   ]
  },
  {
   "cell_type": "code",
   "execution_count": 29,
   "id": "d9ec7c65",
   "metadata": {},
   "outputs": [
    {
     "name": "stdout",
     "output_type": "stream",
     "text": [
      "<!doctype html><html lang=\"en\"><head><meta charset=\"utf-8\"/><title>Short English & Hindi News|Latest News, India News, Current Affairs|Inshorts</title><link rel=\"dns-prefetch\" href=\"https://ajax.googleapis.com\"><link rel=\"dns-prefetch\" href=\"https://assets.inshorts.com\"><link rel=\"dns-prefetch\" href=\"https://static.inshorts.com\"><link rel=\"dns-prefetch\" href=\"https://cdn.ampproject.org\"><meta name\n"
     ]
    }
   ],
   "source": [
    "print(response.text[:400])"
   ]
  },
  {
   "cell_type": "code",
   "execution_count": 30,
   "id": "11667e79",
   "metadata": {},
   "outputs": [],
   "source": [
    "inshorts_article_df.to_csv('news_articles.csv', index=False)"
   ]
  }
 ],
 "metadata": {
  "kernelspec": {
   "display_name": "Python 3 (ipykernel)",
   "language": "python",
   "name": "python3"
  },
  "language_info": {
   "codemirror_mode": {
    "name": "ipython",
    "version": 3
   },
   "file_extension": ".py",
   "mimetype": "text/x-python",
   "name": "python",
   "nbconvert_exporter": "python",
   "pygments_lexer": "ipython3",
   "version": "3.10.9"
  }
 },
 "nbformat": 4,
 "nbformat_minor": 5
}
