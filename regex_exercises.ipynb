{
 "cells": [
  {
   "cell_type": "code",
   "execution_count": 1,
   "id": "52ae3c30",
   "metadata": {},
   "outputs": [],
   "source": [
    "import re"
   ]
  },
  {
   "cell_type": "markdown",
   "id": "34b5dea5-b8df-4300-a8ab-1f440c734df0",
   "metadata": {},
   "source": [
    "### 1. Write a function named is_vowel. It should accept a string as input and use a regular expression to determine if the passed string is a vowel. While not explicity mentioned in the lesson, you can treat the result of re.search as a boolean value that indicates whether or not the regular expression matches the given string."
   ]
  },
  {
   "cell_type": "code",
   "execution_count": 2,
   "id": "07e90f75-6a51-416c-877b-4f28091930f8",
   "metadata": {},
   "outputs": [],
   "source": [
    "def is_vowel(vowel):\n",
    "    matched =re.search(r\"[aeiou]\", vowel)\n",
    "    return bool(matched)"
   ]
  },
  {
   "cell_type": "code",
   "execution_count": 3,
   "id": "722bd67b-5dee-463d-b497-2aeabbffe7a0",
   "metadata": {},
   "outputs": [
    {
     "data": {
      "text/plain": [
       "True"
      ]
     },
     "execution_count": 3,
     "metadata": {},
     "output_type": "execute_result"
    }
   ],
   "source": [
    "is_vowel(\"e\")"
   ]
  },
  {
   "cell_type": "markdown",
   "id": "3ed38fca-05da-4323-82d6-193cc60fd37c",
   "metadata": {},
   "source": [
    "### 2. Write a function named is_valid_username that accepts a string as input. A valid username starts with a lowercase letter, and only consists of lowercase letters, numbers, or the _ character. It should also be no longer than 32 characters. The function should return either True or False depending on whether the passed string is a valid username."
   ]
  },
  {
   "cell_type": "code",
   "execution_count": 5,
   "id": "c26aba9d-f5e3-41ac-b57c-c4d4c0621530",
   "metadata": {},
   "outputs": [],
   "source": [
    "def is_valid_username(user_name):\n",
    "    pattern = re.compile(r\"^[a-z][a-z0-9_]{1,32}$\")\n",
    "    valid_user= pattern.match(user_name)\n",
    "    return bool(valid_user)"
   ]
  },
  {
   "cell_type": "code",
   "execution_count": 7,
   "id": "96972564-4b4c-4116-a64d-5ad1bc2b120b",
   "metadata": {},
   "outputs": [
    {
     "name": "stdout",
     "output_type": "stream",
     "text": [
      "Letm3get0utofH3R3! ---> False\n",
      "codeup ---> True\n",
      "Codeup ---> False\n",
      "codeup123 ---> True\n",
      "1codeup ---> False\n"
     ]
    }
   ],
   "source": [
    "test = [\"Letm3get0utofH3R3!\", \"codeup\", \"Codeup\",\"codeup123\", \"1codeup\"]\n",
    "for i in tests:\n",
    "    print(i, \"--->\",is_valid_username(i))"
   ]
  },
  {
   "cell_type": "markdown",
   "id": "a4f9978e-3ae1-4002-af84-db67f901b906",
   "metadata": {},
   "source": [
    "### 3. Write a regular expression to capture phone numbers. It should match all of the following:"
   ]
  },
  {
   "cell_type": "code",
   "execution_count": 8,
   "id": "17477616-6f98-4205-834f-610034473b0d",
   "metadata": {},
   "outputs": [],
   "source": [
    "def is_valid_phone(phone):\n",
    "#                      begins with    or        or         ending with       \n",
    "    pattern = re.compile(r\"(^\\(\\d{3}\\)|^\\+\\d{1,2}|\\d{3})([\\.\\s-]\\d+){1,3}$\")\n",
    "    valid_phone = pattern.search(phone)\n",
    "    return valid_phone"
   ]
  },
  {
   "cell_type": "code",
   "execution_count": 9,
   "id": "de4cf9d2-e97b-407b-aac7-365cd1abf03e",
   "metadata": {},
   "outputs": [
    {
     "name": "stdout",
     "output_type": "stream",
     "text": [
      "Letm3get0utofH3R3! ---> None --------> False\n",
      "codeup ---> None --------> False\n",
      "Codeup ---> None --------> False\n",
      "codeup123 ---> None --------> False\n",
      "1codeup ---> None --------> False\n"
     ]
    }
   ],
   "source": [
    "test = ['(210) 867 5309', \"+1 210.867.5309\", \"867-5309\", \"210-867-5309\"]\n",
    "for i in tests:\n",
    "    print(i, \"--->\",is_valid_phone(i), \"-------->\", bool(is_valid_phone(i)))"
   ]
  },
  {
   "cell_type": "markdown",
   "id": "c025881a-00d1-45f0-ba56-ccfd35482bc3",
   "metadata": {},
   "source": [
    "### 4. Use regular expressions to convert the dates below to the standardized year-month-day format."
   ]
  },
  {
   "cell_type": "code",
   "execution_count": 15,
   "id": "34c386fe-8113-49aa-bd5c-542592593bed",
   "metadata": {},
   "outputs": [
    {
     "name": "stdout",
     "output_type": "stream",
     "text": [
      "2019-04-02\n",
      "2019-05-02\n",
      "2019-06-02\n"
     ]
    }
   ],
   "source": [
    "def convert_dates(date):\n",
    "    pattern = re.compile(r\"([\\d]{2})/([\\d]{2})/([\\d]{2})$\")\n",
    "    groups = pattern.search(date)\n",
    "    \n",
    "    # Check if the pattern matched\n",
    "    if groups:\n",
    "        day = groups.group(1)\n",
    "        month = groups.group(2)\n",
    "        year = f\"20{groups.group(3)}\"\n",
    "        \n",
    "        # Replace the format\n",
    "        converted_date = f\"{year}-{month}-{day}\"\n",
    "        \n",
    "        return converted_date\n",
    "    else:\n",
    "        # Return the original date if the pattern didn't match\n",
    "        return date\n",
    "\n",
    "\n",
    "date1 = \"02/04/19\"\n",
    "date2 = \"02/05/19\"\n",
    "date3 = \"02/06/19\"\n",
    "\n",
    "converted_date1 = convert_dates(date1)\n",
    "converted_date2 = convert_dates(date2)\n",
    "converted_date3 = convert_dates(date3)\n",
    "print(converted_date1)\n",
    "print(converted_date2)\n",
    "print(converted_date3)\n"
   ]
  },
  {
   "cell_type": "markdown",
   "id": "ad64d9b4-dffd-42a4-8f66-8437de499811",
   "metadata": {},
   "source": [
    "### 5. Write a regex to extract the various parts of these logfile lines:\n",
    "\n",
    "\n"
   ]
  },
  {
   "cell_type": "code",
   "execution_count": 22,
   "id": "e86a26c6-9c81-4802-b1d3-22b85a055cf8",
   "metadata": {},
   "outputs": [],
   "source": [
    "def extract_parts(logfile):\n",
    "    pattern = re.compile('^(.*?) (.*?) \\[(.*?)\\] (.*?) \\{(.*?)\\} (.*?) \"(.*?)\" (.*?)$')\n",
    "    parts= pattern.search(logfile)\n",
    "    \n",
    "    method = parts.group(1)\n",
    "    endpoint = parts.group(2)\n",
    "    timestamp = parts.group(3)\n",
    "    protocol = parts.group(4)\n",
    "    status = parts.group(5)\n",
    "    size = parts.group(6)\n",
    "    user_agent = parts.group(7)\n",
    "    ip_address = parts.group(8)\n",
    "    \n",
    "    print(\"Method:\", method)\n",
    "    print(\"Endpoint:\", endpoint)\n",
    "    print(\"Timestamp:\", timestamp)\n",
    "    print(\"Protocol:\", protocol)\n",
    "    print(\"Status:\", status)\n",
    "    print(\"Size:\", size)\n",
    "    print(\"User Agent:\", user_agent)\n",
    "    print(\"IP Address:\", ip_address)\n",
    "    \n",
    "    return parts\n"
   ]
  },
  {
   "cell_type": "code",
   "execution_count": 23,
   "id": "af29da15-78c9-4d66-935a-c12debef2065",
   "metadata": {},
   "outputs": [
    {
     "name": "stdout",
     "output_type": "stream",
     "text": [
      "Method: GET\n",
      "Endpoint: /api/v1/sales?page=86\n",
      "Timestamp: 16/Apr/2019:193452+0000\n",
      "Protocol: HTTP/1.1\n",
      "Status: 200\n",
      "Size: 510348\n",
      "User Agent: python-requests/2.21.0\n",
      "IP Address: 97.105.19.58\n",
      "-------------------- \n",
      " <re.Match object; span=(0, 111), match='GET /api/v1/sales?page=86 [16/Apr/2019:193452+000>\n",
      "Method: POST\n",
      "Endpoint: /users_accounts/file-upload\n",
      "Timestamp: 16/Apr/2019:193452+0000\n",
      "Protocol: HTTP/1.1\n",
      "Status: 201\n",
      "Size: 42\n",
      "User Agent: User-Agent: Mozilla/5.0 (X11; Fedora; Fedora; Linux x86_64) AppleWebKit/537.36 (KHTML, like Gecko) Chrome/73.0.3683.86 Safari/537.36\n",
      "IP Address: 97.105.19.58\n",
      "-------------------- \n",
      " <re.Match object; span=(0, 224), match='POST /users_accounts/file-upload [16/Apr/2019:193>\n",
      "Method: GET\n",
      "Endpoint: /api/v1/items?page=3\n",
      "Timestamp: 16/Apr/2019:193453+0000\n",
      "Protocol: HTTP/1.1\n",
      "Status: 429\n",
      "Size: 3561\n",
      "User Agent: python-requests/2.21.0\n",
      "IP Address: 97.105.19.58\n",
      "-------------------- \n",
      " <re.Match object; span=(0, 108), match='GET /api/v1/items?page=3 [16/Apr/2019:193453+0000>\n"
     ]
    }
   ],
   "source": [
    "test1 = '''GET /api/v1/sales?page=86 [16/Apr/2019:193452+0000] HTTP/1.1 {200} 510348 \"python-requests/2.21.0\" 97.105.19.58'''\n",
    "test2 = '''POST /users_accounts/file-upload [16/Apr/2019:193452+0000] HTTP/1.1 {201} 42 \"User-Agent: Mozilla/5.0 (X11; Fedora; Fedora; Linux x86_64) AppleWebKit/537.36 (KHTML, like Gecko) Chrome/73.0.3683.86 Safari/537.36\" 97.105.19.58'''\n",
    "test3 = '''GET /api/v1/items?page=3 [16/Apr/2019:193453+0000] HTTP/1.1 {429} 3561 \"python-requests/2.21.0\" 97.105.19.58'''\n",
    "tests = [test1, test2, test3]\n",
    "for i in tests:\n",
    "    print(\"-\"*20,\"\\n\",extract_parts(i))\n"
   ]
  }
 ],
 "metadata": {
  "kernelspec": {
   "display_name": "Python 3 (ipykernel)",
   "language": "python",
   "name": "python3"
  },
  "language_info": {
   "codemirror_mode": {
    "name": "ipython",
    "version": 3
   },
   "file_extension": ".py",
   "mimetype": "text/x-python",
   "name": "python",
   "nbconvert_exporter": "python",
   "pygments_lexer": "ipython3",
   "version": "3.10.9"
  }
 },
 "nbformat": 4,
 "nbformat_minor": 5
}
